{
 "cells": [
  {
   "cell_type": "markdown",
   "metadata": {
    "id": "0n7PxHqkaz62"
   },
   "source": [
    "# Adhesin Classification"
   ]
  },
  {
   "cell_type": "code",
   "execution_count": 121,
   "metadata": {
    "id": "PWVGuYECU5Re"
   },
   "outputs": [],
   "source": [
    "%%capture\n",
    "!pip install Biopython\n",
    "!rm -r iFeature\n",
    "!rm -r spaan\n",
    "!git clone https://github.com/Superzchen/iFeature\n",
    "!git clone https://github.com/nicolagulmini/spaan\n",
    "\n",
    "import numpy as np\n",
    "import tensorflow\n",
    "from tensorflow import keras\n",
    "import matplotlib.pyplot as plt\n",
    "from Bio import SeqIO\n"
   ]
  },
  {
   "cell_type": "code",
   "execution_count": 1,
   "metadata": {},
   "outputs": [
    {
     "name": "stderr",
     "output_type": "stream",
     "text": [
      "2023-02-01 21:33:29.848996: I tensorflow/core/platform/cpu_feature_guard.cc:193] This TensorFlow binary is optimized with oneAPI Deep Neural Network Library (oneDNN) to use the following CPU instructions in performance-critical operations:  AVX2 AVX512F AVX512_VNNI FMA\n",
      "To enable them in other operations, rebuild TensorFlow with the appropriate compiler flags.\n",
      "2023-02-01 21:33:29.955597: I tensorflow/core/util/util.cc:169] oneDNN custom operations are on. You may see slightly different numerical results due to floating-point round-off errors from different computation orders. To turn them off, set the environment variable `TF_ENABLE_ONEDNN_OPTS=0`.\n",
      "2023-02-01 21:33:29.959381: W tensorflow/stream_executor/platform/default/dso_loader.cc:64] Could not load dynamic library 'libcudart.so.11.0'; dlerror: libcudart.so.11.0: cannot open shared object file: No such file or directory\n",
      "2023-02-01 21:33:29.959392: I tensorflow/stream_executor/cuda/cudart_stub.cc:29] Ignore above cudart dlerror if you do not have a GPU set up on your machine.\n",
      "2023-02-01 21:33:29.976985: E tensorflow/stream_executor/cuda/cuda_blas.cc:2981] Unable to register cuBLAS factory: Attempting to register factory for plugin cuBLAS when one has already been registered\n",
      "2023-02-01 21:33:30.400046: W tensorflow/stream_executor/platform/default/dso_loader.cc:64] Could not load dynamic library 'libnvinfer.so.7'; dlerror: libnvinfer.so.7: cannot open shared object file: No such file or directory\n",
      "2023-02-01 21:33:30.400088: W tensorflow/stream_executor/platform/default/dso_loader.cc:64] Could not load dynamic library 'libnvinfer_plugin.so.7'; dlerror: libnvinfer_plugin.so.7: cannot open shared object file: No such file or directory\n",
      "2023-02-01 21:33:30.400093: W tensorflow/compiler/tf2tensorrt/utils/py_utils.cc:38] TF-TRT Warning: Cannot dlopen some TensorRT libraries. If you would like to use Nvidia GPU with TensorRT, please make sure the missing libraries mentioned above are installed properly.\n"
     ]
    }
   ],
   "source": [
    "import numpy as np\n",
    "import tensorflow\n",
    "from tensorflow import keras\n",
    "import matplotlib.pyplot as plt\n",
    "from Bio import SeqIO"
   ]
  },
  {
   "cell_type": "markdown",
   "metadata": {
    "id": "VEeoI6ARa3dL"
   },
   "source": [
    "## Compute features from sequences using iFeature"
   ]
  },
  {
   "cell_type": "code",
   "execution_count": 122,
   "metadata": {
    "colab": {
     "base_uri": "https://localhost:8080/",
     "height": 178
    },
    "id": "pzEvZQh1U7s9",
    "outputId": "04247103-8e60-4cae-a9c9-951d40b0b895"
   },
   "outputs": [
    {
     "data": {
      "application/vnd.google.colaboratory.intrinsic+json": {
       "type": "string"
      },
      "text/plain": [
       "'\\n# put the right path\\n!python iFeature/iFeature.py --file ./spaan/data/25_similarity/positive/adhesins.fasta --type AAC --out aac_cleaned_pos.out    # amino acids composition\\n!python iFeature/iFeature.py --file ./spaan/data/25_similarity/positive/adhesins.fasta --type DPC --out dpc_cleaned_pos.out    # dipeptide composition\\n!python iFeature/iFeature.py --file ./spaan/data/25_similarity/positive/adhesins.fasta --type CTDC --out ctdc_cleaned_pos.out  # composition\\n!python iFeature/iFeature.py --file ./spaan/data/25_similarity/positive/adhesins.fasta --type CTDT --out ctdt_cleaned_pos.out  # transition\\n!python iFeature/iFeature.py --file ./spaan/data/25_similarity/positive/adhesins.fasta --type CTDD --out ctdd_cleaned_pos.out  # distribution\\n\\nprint(\"pos: DONE!\")\\n\\n!python iFeature/iFeature.py --file ./spaan/data/25_similarity/negative/non_adhesins.fasta --type AAC --out aac_cleaned_neg.out    # amino acids composition\\n!python iFeature/iFeature.py --file ./spaan/data/25_similarity/negative/non_adhesins.fasta --type DPC --out dpc_cleaned_neg.out    # dipeptide composition\\n!python iFeature/iFeature.py --file ./spaan/data/25_similarity/negative/non_adhesins.fasta --type CTDC --out ctdc_cleaned_neg.out  # composition\\n!python iFeature/iFeature.py --file ./spaan/data/25_similarity/negative/non_adhesins.fasta --type CTDT --out ctdt_cleaned_neg.out  # transition\\n!python iFeature/iFeature.py --file ./spaan/data/25_similarity/negative/non_adhesins.fasta --type CTDD --out ctdd_cleaned_neg.out  # distribution\\n\\nprint(\"neg: DONE!\")\\n'"
      ]
     },
     "execution_count": 122,
     "metadata": {},
     "output_type": "execute_result"
    }
   ],
   "source": [
    "'''\n",
    "# put the right path\n",
    "!python iFeature/iFeature.py --file ./spaan/data/25_similarity/positive/adhesins.fasta --type AAC --out aac_cleaned_pos.out    # amino acids composition\n",
    "!python iFeature/iFeature.py --file ./spaan/data/25_similarity/positive/adhesins.fasta --type DPC --out dpc_cleaned_pos.out    # dipeptide composition\n",
    "!python iFeature/iFeature.py --file ./spaan/data/25_similarity/positive/adhesins.fasta --type CTDC --out ctdc_cleaned_pos.out  # composition\n",
    "!python iFeature/iFeature.py --file ./spaan/data/25_similarity/positive/adhesins.fasta --type CTDT --out ctdt_cleaned_pos.out  # transition\n",
    "!python iFeature/iFeature.py --file ./spaan/data/25_similarity/positive/adhesins.fasta --type CTDD --out ctdd_cleaned_pos.out  # distribution\n",
    "\n",
    "print(\"pos: DONE!\")\n",
    "\n",
    "!python iFeature/iFeature.py --file ./spaan/data/25_similarity/negative/non_adhesins.fasta --type AAC --out aac_cleaned_neg.out    # amino acids composition\n",
    "!python iFeature/iFeature.py --file ./spaan/data/25_similarity/negative/non_adhesins.fasta --type DPC --out dpc_cleaned_neg.out    # dipeptide composition\n",
    "!python iFeature/iFeature.py --file ./spaan/data/25_similarity/negative/non_adhesins.fasta --type CTDC --out ctdc_cleaned_neg.out  # composition\n",
    "!python iFeature/iFeature.py --file ./spaan/data/25_similarity/negative/non_adhesins.fasta --type CTDT --out ctdt_cleaned_neg.out  # transition\n",
    "!python iFeature/iFeature.py --file ./spaan/data/25_similarity/negative/non_adhesins.fasta --type CTDD --out ctdd_cleaned_neg.out  # distribution\n",
    "\n",
    "print(\"neg: DONE!\")\n",
    "'''"
   ]
  },
  {
   "cell_type": "code",
   "execution_count": 9,
   "metadata": {
    "id": "IYbll8nFWFeB"
   },
   "outputs": [],
   "source": [
    "def from_files_to_vectors(fasta_path, positive=True):\n",
    "    if positive:\n",
    "        proteins = list(SeqIO.parse(fasta_path+'adhesins.fasta', \"fasta\"))\n",
    "    else:\n",
    "        proteins = list(SeqIO.parse(fasta_path+'non_adhesins.fasta', \"fasta\"))\n",
    "    extension = \".out\"\n",
    "    files = [\"aac\", \"dpc\", \"ctdc\", \"ctdt\", \"ctdd\"]\n",
    "    if positive:\n",
    "        names = \"_pos\"\n",
    "    else:\n",
    "        names = \"_neg\"\n",
    "    for i in range(len(files)):\n",
    "        files[i] += names\n",
    "    datasets = [[] for el in files]\n",
    "    for i in range(len(files)):\n",
    "        with open(fasta_path+files[i]+extension) as f:\n",
    "            lines = f.readlines()[1:]\n",
    "            check_prot = 0\n",
    "            for line in lines:\n",
    "                information = line.split('\\t')\n",
    "                if not information[0] == proteins[check_prot].id:\n",
    "                    print(\"Error in protein order! Return\")\n",
    "                    return datasets\n",
    "                datasets[i].append(np.array([float(el) for el in information[1:]]))\n",
    "                check_prot += 1\n",
    "        datasets[i] = np.array(datasets[i])\n",
    "    return datasets"
   ]
  },
  {
   "cell_type": "code",
   "execution_count": 10,
   "metadata": {
    "id": "UhhYXnkFd4f-"
   },
   "outputs": [],
   "source": [
    "# put the right path\n",
    "pos_datasets = from_files_to_vectors(\"./data/25_similarity/pos/\", positive=True)\n",
    "neg_datasets = from_files_to_vectors(\"./data/25_similarity/neg/\", positive=False)"
   ]
  },
  {
   "cell_type": "code",
   "execution_count": 11,
   "metadata": {
    "id": "ygAG4O2mbTqE"
   },
   "outputs": [],
   "source": [
    "y_pos = np.ones(pos_datasets[0].shape[0])\n",
    "y_neg = np.zeros(neg_datasets[0].shape[0])"
   ]
  },
  {
   "cell_type": "code",
   "execution_count": 12,
   "metadata": {
    "colab": {
     "base_uri": "https://localhost:8080/"
    },
    "id": "smNPp1kx8wjn",
    "outputId": "82b1c70f-7b49-4998-837b-e54a9ffefe5b"
   },
   "outputs": [
    {
     "name": "stdout",
     "output_type": "stream",
     "text": [
      "Adhesins: 2862\n",
      "NON Adhesins: 2850\n",
      "1 -th feature dim: 20\n",
      "2 -th feature dim: 400\n",
      "3 -th feature dim: 39\n",
      "4 -th feature dim: 39\n",
      "5 -th feature dim: 195\n",
      "Data matrix dimension: (5712, 693)\n"
     ]
    }
   ],
   "source": [
    "# attach datasets in order to obtain a matrix of (n, 20+400+39+39+195) features\n",
    "\n",
    "# keep in mind the number of adhesins and the number of not adhesins\n",
    "rows = 0\n",
    "n_pos = y_pos.shape[0]\n",
    "n_neg = y_neg.shape[0]\n",
    "rows = n_pos + n_neg\n",
    "print('Adhesins:', n_pos)\n",
    "print('NON Adhesins:', n_neg)\n",
    "\n",
    "# feature vectors dimensions\n",
    "columns = 0\n",
    "for i in range(len(pos_datasets)):\n",
    "    tmp_dim = pos_datasets[i].shape[1]\n",
    "    print(i+1, '-th feature dim:', tmp_dim)\n",
    "    columns += tmp_dim\n",
    "\n",
    "# data matrix to process\n",
    "X = np.zeros((rows, columns))\n",
    "print('Data matrix dimension:', X.shape)\n",
    "for i in range(n_pos):\n",
    "    X[i] = np.concatenate([pos_datasets[j][i] for j in range(5)])\n",
    "for i in range(n_neg):\n",
    "    X[n_pos+i] = np.concatenate([neg_datasets[j][i] for j in range(5)])"
   ]
  },
  {
   "cell_type": "code",
   "execution_count": 13,
   "metadata": {
    "id": "Le_qOBDQbtIR"
   },
   "outputs": [],
   "source": [
    "# permutation\n",
    "np.random.seed(990)\n",
    "y = np.concatenate((y_pos, y_neg), axis=0)\n",
    "c = np.random.permutation(np.arange(y.shape[0]))\n",
    "y = y[c]\n",
    "X = X[c] "
   ]
  },
  {
   "cell_type": "code",
   "execution_count": 128,
   "metadata": {
    "id": "C6lIL92bil0D"
   },
   "outputs": [],
   "source": [
    "# we should remove outliers"
   ]
  },
  {
   "cell_type": "code",
   "execution_count": 14,
   "metadata": {
    "colab": {
     "base_uri": "https://localhost:8080/"
    },
    "id": "ux8mpZZwb-AD",
    "outputId": "5f81e2a0-fe6b-4346-8962-9181091ffb81"
   },
   "outputs": [
    {
     "name": "stdout",
     "output_type": "stream",
     "text": [
      "Training data shape: (2856, 693) (2856,)\n",
      "Validation data shape: (1428, 693) (1428,)\n",
      "Test data shape: (1428, 693) (1428,)\n",
      "\n",
      "Training adhesins and not-adhesins: 1422 1434\n",
      "Validation adhesins and not-adhesins: 699 729\n",
      "Test adhesins and not-adhesins: 741 687\n"
     ]
    }
   ],
   "source": [
    "# remember: standardization or scaling AFTER train-test split, otherwise there's data leakage!!!\n",
    "X_train = X[:int(X.shape[0]*.5)]\n",
    "X_val = X[int(X.shape[0]*.5):int(X.shape[0]*.75)]\n",
    "X_test = X[int(X.shape[0]*.75):]\n",
    "\n",
    "y_train = y[:int(y.shape[0]*.5)]\n",
    "y_val = y[int(y.shape[0]*.5):int(y.shape[0]*.75)]\n",
    "y_test = y[int(y.shape[0]*.75):]\n",
    "\n",
    "print('Training data shape:', X_train.shape, y_train.shape)\n",
    "print('Validation data shape:', X_val.shape, y_val.shape)\n",
    "print('Test data shape:', X_test.shape, y_test.shape)\n",
    "\n",
    "print('\\nTraining adhesins and not-adhesins:', int(sum(y_train)), int(y_train.shape[0]-sum(y_train)))\n",
    "print('Validation adhesins and not-adhesins:', int(sum(y_val)), int(y_val.shape[0]-sum(y_val)))\n",
    "print('Test adhesins and not-adhesins:', int(sum(y_test)), int(y_test.shape[0]-sum(y_test)))"
   ]
  },
  {
   "cell_type": "markdown",
   "metadata": {
    "id": "A3f7wcI98ukB"
   },
   "source": [
    "## PCA"
   ]
  },
  {
   "cell_type": "code",
   "execution_count": 15,
   "metadata": {
    "colab": {
     "base_uri": "https://localhost:8080/"
    },
    "id": "uos3QwWo9Mnt",
    "outputId": "61476efe-b3c5-4a8f-eefa-c917a08c4861"
   },
   "outputs": [
    {
     "name": "stdout",
     "output_type": "stream",
     "text": [
      "Before standardization:\n",
      "mean of the first column: 0.08377196411533422\n",
      "mean of the second column: 0.010377731211505316\n",
      "mean of the 451-th column: 0.09889939653467333\n",
      "After standardization:\n",
      "mean of the first column: -1.5082861819137281e-16\n",
      "mean of the second column: -3.918434204559376e-17\n",
      "mean of the 451-th column: -1.8597013129575452e-16\n"
     ]
    }
   ],
   "source": [
    "# standardize data\n",
    "# remember that test and validation data have to be standardized with training mean and std dev\n",
    "# https://stats.stackexchange.com/questions/174823/how-to-apply-standardization-normalization-to-train-and-testset-if-prediction-i\n",
    "\n",
    "# print some column vectors to check\n",
    "print('Before standardization:')\n",
    "print('mean of the first column:', np.mean(X_train[:,0]))\n",
    "print('mean of the second column:', np.mean(X_train[:,1]))\n",
    "print('mean of the 451-th column:', np.mean(X_train[:,450]))\n",
    "\n",
    "stdX = np.zeros(X_train.shape)\n",
    "stdX_val = np.zeros(X_val.shape)\n",
    "stdX_test = np.zeros(X_test.shape)\n",
    "\n",
    "means = np.zeros(X_train.shape[1])\n",
    "std_devs = np.zeros(X_train.shape[1])\n",
    "\n",
    "for j in range(X_train.shape[1]):\n",
    "    column = X_train[:,j]\n",
    "    means[j] = np.mean(column)\n",
    "    std_devs[j] = np.std(column)\n",
    "\n",
    "    stdX[:,j] = (column - means[j]) / std_devs[j]\n",
    "    stdX_val[:,j] = (X_val[:,j] - means[j]) / std_devs[j]\n",
    "    stdX_test[:,j] = (X_test[:,j] - means[j]) / std_devs[j]\n",
    "\n",
    "print('After standardization:')\n",
    "print('mean of the first column:', np.mean(stdX[:,0]))\n",
    "print('mean of the second column:', np.mean(stdX[:,1]))\n",
    "print('mean of the 451-th column:', np.mean(stdX[:,450]))\n",
    "\n",
    "np.save('mean', means)\n",
    "np.save('std', std_devs)"
   ]
  },
  {
   "cell_type": "code",
   "execution_count": 16,
   "metadata": {
    "id": "1rxxgMIFBCiy"
   },
   "outputs": [],
   "source": [
    "covariance_matrix = np.cov(stdX.T)"
   ]
  },
  {
   "cell_type": "code",
   "execution_count": 17,
   "metadata": {
    "id": "WP-_Lnn-ClUY"
   },
   "outputs": [],
   "source": [
    "# The covariance matrix is symmetric, and thus has real eigenvalues. You may see a small imaginary part in some eigenvalues due to numerical error. The imaginary parts can generally be ignored.\n",
    "# source: https://stackoverflow.com/questions/10420648/complex-eigen-values-in-pca-calculation\n",
    "\n",
    "eigen_values, eigen_vectors = np.linalg.eig(covariance_matrix)\n",
    "eigen_values = np.real(eigen_values)\n",
    "eigen_vectors = np.real(eigen_vectors)"
   ]
  },
  {
   "cell_type": "code",
   "execution_count": 18,
   "metadata": {
    "colab": {
     "base_uri": "https://localhost:8080/"
    },
    "id": "hTqYBNJ6CpPm",
    "outputId": "ee4ce8e4-3fa7-455f-842e-89b1e2dbd468"
   },
   "outputs": [],
   "source": [
    "# Calculating the explained variance on each of components\n",
    "\n",
    "variance_explained = []\n",
    "for i in eigen_values:\n",
    "    variance_explained.append((i/sum(eigen_values))*100)\n",
    "\n",
    "#print(variance_explained)"
   ]
  },
  {
   "cell_type": "code",
   "execution_count": 19,
   "metadata": {
    "id": "6paF0Sx6CxgR"
   },
   "outputs": [],
   "source": [
    "cumulative_variance_explained = np.cumsum(variance_explained)"
   ]
  },
  {
   "cell_type": "code",
   "execution_count": 20,
   "metadata": {
    "colab": {
     "base_uri": "https://localhost:8080/",
     "height": 295
    },
    "id": "JiCZn04JC6O2",
    "outputId": "bf2af60a-88ab-4bf7-d1af-4afa847a4a65"
   },
   "outputs": [
    {
     "data": {
      "image/png": "[encoded data removed]",
      "text/plain": [
       "<Figure size 640x480 with 1 Axes>"
      ]
     },
     "metadata": {},
     "output_type": "display_data"
    }
   ],
   "source": [
    "plt.title(\"Explained variance vs Number of components\")\n",
    "\n",
    "plt.xlabel(\"Number of components\")\n",
    "plt.ylabel(\"Cumulative explained variance\")\n",
    "plt.grid(color='gray', linewidth=.4)\n",
    "\n",
    "plt.plot(range(len(cumulative_variance_explained)), cumulative_variance_explained)\n",
    "\n",
    "plt.show()\n",
    "#plt.savefig('Explained variance.png')"
   ]
  },
  {
   "cell_type": "code",
   "execution_count": 21,
   "metadata": {
    "colab": {
     "base_uri": "https://localhost:8080/"
    },
    "id": "1uJyQPrCJIhN",
    "outputId": "8da93713-dc72-4f20-c7e8-a174aeabc971"
   },
   "outputs": [
    {
     "name": "stdout",
     "output_type": "stream",
     "text": [
      "Principal components: 400\n",
      "Discarded components: 293\n"
     ]
    }
   ],
   "source": [
    "K = 400\n",
    "print('Principal components:', K)\n",
    "print('Discarded components:', columns-K)"
   ]
  },
  {
   "cell_type": "code",
   "execution_count": 22,
   "metadata": {
    "colab": {
     "base_uri": "https://localhost:8080/",
     "height": 295
    },
    "id": "fgyo-1SwEgmK",
    "outputId": "ffb79f1e-51d1-4f72-8d60-61c9cea73ecb"
   },
   "outputs": [
    {
     "data": {
      "image/png": "[encoded data removed]",
      "text/plain": [
       "<Figure size 640x480 with 1 Axes>"
      ]
     },
     "metadata": {},
     "output_type": "display_data"
    }
   ],
   "source": [
    "plt.title(\"Explained variance vs first \" + str(K) + \" components\")\n",
    "\n",
    "plt.xlabel(\"Number of components\")\n",
    "plt.ylabel(\"Cumulative explained variance\")\n",
    "plt.grid(color='gray', linewidth=.4)\n",
    "\n",
    "plt.plot(range(K), cumulative_variance_explained[:K])\n",
    "\n",
    "plt.show()\n",
    "#plt.savefig('Explained variance.png')"
   ]
  },
  {
   "cell_type": "code",
   "execution_count": 23,
   "metadata": {
    "colab": {
     "base_uri": "https://localhost:8080/"
    },
    "id": "uOq8n7vDGbBg",
    "outputId": "594c234d-211b-49f1-ee23-bb2b71d73aa4"
   },
   "outputs": [
    {
     "name": "stdout",
     "output_type": "stream",
     "text": [
      "(693, 400)\n"
     ]
    }
   ],
   "source": [
    "# Project using first K components\n",
    "\n",
    "projection_matrix = np.real((eigen_vectors.T[:][:K]).T)\n",
    "print(projection_matrix.shape)\n",
    "\n",
    "np.save('projection_matrix', projection_matrix)"
   ]
  },
  {
   "cell_type": "code",
   "execution_count": 24,
   "metadata": {
    "id": "IMfOPt8wdwIb"
   },
   "outputs": [],
   "source": [
    "# project matrices\n",
    "X_train = stdX.dot(projection_matrix)\n",
    "X_val = stdX_val.dot(projection_matrix)\n",
    "X_test = stdX_test.dot(projection_matrix)"
   ]
  },
  {
   "cell_type": "markdown",
   "metadata": {
    "id": "hD7cgwErK-at"
   },
   "source": [
    "## Neural Network"
   ]
  },
  {
   "cell_type": "code",
   "execution_count": 25,
   "metadata": {
    "id": "Mm5Ub0lgNion"
   },
   "outputs": [],
   "source": [
    "from tensorflow.keras import regularizers\n",
    "\n",
    "class neural_network:\n",
    "    def __init__(self):\n",
    "        input = tensorflow.keras.Input(shape=(K,))\n",
    "        \n",
    "        dense = tensorflow.keras.layers.Dense(units=10, \n",
    "                                                activation='sigmoid',\n",
    "                                                kernel_regularizer=regularizers.L1L2(l1=1e-3, l2=1e-3),\n",
    "                                                bias_regularizer=regularizers.L2(1e-3),\n",
    "                                                activity_regularizer=regularizers.L2(1e-3))(input)\n",
    "        #norm = tensorflow.keras.layers.BatchNormalization()(dense)\n",
    "        #drop = tensorflow.keras.layers.Dropout(.1)(dense)\n",
    "        #dense = tensorflow.keras.layers.Dense(10, activation='sigmoid')(drop)\n",
    "        output = tensorflow.keras.layers.Dense(1, activation='sigmoid')(dense)\n",
    "\n",
    "        model = tensorflow.keras.models.Model(inputs=input, outputs=output)\n",
    "        model.compile(optimizer=tensorflow.keras.optimizers.Adam(learning_rate=0.0005), loss='binary_crossentropy', metrics='accuracy')\n",
    "        self.model = model"
   ]
  },
  {
   "cell_type": "code",
   "execution_count": 26,
   "metadata": {
    "id": "_8WMTxwXOCN4"
   },
   "outputs": [
    {
     "name": "stderr",
     "output_type": "stream",
     "text": [
      "2023-02-01 22:10:36.170034: W tensorflow/stream_executor/platform/default/dso_loader.cc:64] Could not load dynamic library 'libcuda.so.1'; dlerror: libcuda.so.1: cannot open shared object file: No such file or directory\n",
      "2023-02-01 22:10:36.170064: W tensorflow/stream_executor/cuda/cuda_driver.cc:263] failed call to cuInit: UNKNOWN ERROR (303)\n",
      "2023-02-01 22:10:36.170100: I tensorflow/stream_executor/cuda/cuda_diagnostics.cc:156] kernel driver does not appear to be running on this host (79b804562f18): /proc/driver/nvidia/version does not exist\n",
      "2023-02-01 22:10:36.170267: I tensorflow/core/platform/cpu_feature_guard.cc:193] This TensorFlow binary is optimized with oneAPI Deep Neural Network Library (oneDNN) to use the following CPU instructions in performance-critical operations:  AVX2 AVX512F AVX512_VNNI FMA\n",
      "To enable them in other operations, rebuild TensorFlow with the appropriate compiler flags.\n"
     ]
    }
   ],
   "source": [
    "nn = neural_network()"
   ]
  },
  {
   "cell_type": "code",
   "execution_count": 27,
   "metadata": {
    "colab": {
     "base_uri": "https://localhost:8080/"
    },
    "id": "fb8toDqPppYe",
    "outputId": "2281916e-ac76-4d64-a966-08e0bf3aca78"
   },
   "outputs": [
    {
     "name": "stdout",
     "output_type": "stream",
     "text": [
      "Model: \"model\"\n",
      "_________________________________________________________________\n",
      " Layer (type)                Output Shape              Param #   \n",
      "=================================================================\n",
      " input_1 (InputLayer)        [(None, 400)]             0         \n",
      "                                                                 \n",
      " dense (Dense)               (None, 10)                4010      \n",
      "                                                                 \n",
      " dense_1 (Dense)             (None, 1)                 11        \n",
      "                                                                 \n",
      "=================================================================\n",
      "Total params: 4,021\n",
      "Trainable params: 4,021\n",
      "Non-trainable params: 0\n",
      "_________________________________________________________________\n"
     ]
    }
   ],
   "source": [
    "nn.model.summary()"
   ]
  },
  {
   "cell_type": "code",
   "execution_count": 28,
   "metadata": {
    "colab": {
     "base_uri": "https://localhost:8080/"
    },
    "id": "vkkGhIODODzx",
    "outputId": "960ce50f-2e4b-41d6-ceb1-821503620ac6"
   },
   "outputs": [
    {
     "name": "stdout",
     "output_type": "stream",
     "text": [
      "Epoch 1/1000\n",
      "45/45 [==============================] - 0s 4ms/step - loss: 0.9974 - accuracy: 0.4993 - val_loss: 0.9195 - val_accuracy: 0.5189\n",
      "Epoch 2/1000\n",
      "45/45 [==============================] - 0s 1ms/step - loss: 0.8726 - accuracy: 0.5207 - val_loss: 0.8120 - val_accuracy: 0.5735\n",
      "Epoch 3/1000\n",
      "45/45 [==============================] - 0s 1ms/step - loss: 0.7687 - accuracy: 0.6268 - val_loss: 0.7222 - val_accuracy: 0.7045\n",
      "Epoch 4/1000\n",
      "45/45 [==============================] - 0s 1ms/step - loss: 0.6821 - accuracy: 0.7504 - val_loss: 0.6473 - val_accuracy: 0.8116\n",
      "Epoch 5/1000\n",
      "45/45 [==============================] - 0s 1ms/step - loss: 0.6098 - accuracy: 0.8431 - val_loss: 0.5849 - val_accuracy: 0.8669\n",
      "Epoch 6/1000\n",
      "45/45 [==============================] - 0s 1ms/step - loss: 0.5497 - accuracy: 0.8887 - val_loss: 0.5329 - val_accuracy: 0.8880\n",
      "Epoch 7/1000\n",
      "45/45 [==============================] - 0s 1ms/step - loss: 0.5000 - accuracy: 0.9069 - val_loss: 0.4911 - val_accuracy: 0.8950\n",
      "Epoch 8/1000\n",
      "45/45 [==============================] - 0s 1ms/step - loss: 0.4601 - accuracy: 0.9146 - val_loss: 0.4567 - val_accuracy: 0.8999\n",
      "Epoch 9/1000\n",
      "45/45 [==============================] - 0s 1ms/step - loss: 0.4282 - accuracy: 0.9195 - val_loss: 0.4292 - val_accuracy: 0.9013\n",
      "Epoch 10/1000\n",
      "45/45 [==============================] - 0s 1ms/step - loss: 0.4024 - accuracy: 0.9244 - val_loss: 0.4069 - val_accuracy: 0.9055\n",
      "Epoch 11/1000\n",
      "45/45 [==============================] - 0s 1ms/step - loss: 0.3814 - accuracy: 0.9289 - val_loss: 0.3878 - val_accuracy: 0.9111\n",
      "Epoch 12/1000\n",
      "45/45 [==============================] - 0s 1ms/step - loss: 0.3637 - accuracy: 0.9307 - val_loss: 0.3718 - val_accuracy: 0.9118\n",
      "Epoch 13/1000\n",
      "45/45 [==============================] - 0s 1ms/step - loss: 0.3490 - accuracy: 0.9307 - val_loss: 0.3586 - val_accuracy: 0.9139\n",
      "Epoch 14/1000\n",
      "45/45 [==============================] - 0s 1ms/step - loss: 0.3366 - accuracy: 0.9307 - val_loss: 0.3471 - val_accuracy: 0.9174\n",
      "Epoch 15/1000\n",
      "45/45 [==============================] - 0s 1ms/step - loss: 0.3261 - accuracy: 0.9296 - val_loss: 0.3374 - val_accuracy: 0.9181\n",
      "Epoch 16/1000\n",
      "45/45 [==============================] - 0s 1ms/step - loss: 0.3172 - accuracy: 0.9296 - val_loss: 0.3289 - val_accuracy: 0.9188\n",
      "Epoch 17/1000\n",
      "45/45 [==============================] - 0s 1ms/step - loss: 0.3093 - accuracy: 0.9314 - val_loss: 0.3216 - val_accuracy: 0.9230\n",
      "Epoch 18/1000\n",
      "45/45 [==============================] - 0s 1ms/step - loss: 0.3024 - accuracy: 0.9321 - val_loss: 0.3149 - val_accuracy: 0.9237\n",
      "Epoch 19/1000\n",
      "45/45 [==============================] - 0s 1ms/step - loss: 0.2966 - accuracy: 0.9310 - val_loss: 0.3093 - val_accuracy: 0.9230\n",
      "Epoch 20/1000\n",
      "45/45 [==============================] - 0s 1ms/step - loss: 0.2911 - accuracy: 0.9317 - val_loss: 0.3043 - val_accuracy: 0.9237\n",
      "Epoch 21/1000\n",
      "45/45 [==============================] - 0s 1ms/step - loss: 0.2864 - accuracy: 0.9321 - val_loss: 0.2998 - val_accuracy: 0.9237\n",
      "Epoch 22/1000\n",
      "45/45 [==============================] - 0s 1ms/step - loss: 0.2823 - accuracy: 0.9331 - val_loss: 0.2962 - val_accuracy: 0.9230\n",
      "Epoch 23/1000\n",
      "45/45 [==============================] - 0s 1ms/step - loss: 0.2782 - accuracy: 0.9310 - val_loss: 0.2921 - val_accuracy: 0.9244\n",
      "Epoch 24/1000\n",
      "45/45 [==============================] - 0s 1ms/step - loss: 0.2748 - accuracy: 0.9324 - val_loss: 0.2887 - val_accuracy: 0.9237\n",
      "Epoch 25/1000\n",
      "45/45 [==============================] - 0s 1ms/step - loss: 0.2716 - accuracy: 0.9328 - val_loss: 0.2857 - val_accuracy: 0.9244\n",
      "Epoch 26/1000\n",
      "45/45 [==============================] - 0s 1ms/step - loss: 0.2684 - accuracy: 0.9321 - val_loss: 0.2829 - val_accuracy: 0.9244\n",
      "Epoch 27/1000\n",
      "45/45 [==============================] - 0s 1ms/step - loss: 0.2659 - accuracy: 0.9328 - val_loss: 0.2808 - val_accuracy: 0.9244\n",
      "Epoch 28/1000\n",
      "45/45 [==============================] - 0s 1ms/step - loss: 0.2631 - accuracy: 0.9331 - val_loss: 0.2785 - val_accuracy: 0.9237\n",
      "Epoch 29/1000\n",
      "45/45 [==============================] - 0s 1ms/step - loss: 0.2608 - accuracy: 0.9342 - val_loss: 0.2764 - val_accuracy: 0.9244\n",
      "Epoch 30/1000\n",
      "45/45 [==============================] - 0s 1ms/step - loss: 0.2586 - accuracy: 0.9338 - val_loss: 0.2742 - val_accuracy: 0.9237\n",
      "Epoch 31/1000\n",
      "45/45 [==============================] - 0s 1ms/step - loss: 0.2567 - accuracy: 0.9356 - val_loss: 0.2728 - val_accuracy: 0.9237\n",
      "Epoch 32/1000\n",
      "45/45 [==============================] - 0s 1ms/step - loss: 0.2547 - accuracy: 0.9352 - val_loss: 0.2711 - val_accuracy: 0.9237\n",
      "Epoch 33/1000\n",
      "45/45 [==============================] - 0s 1ms/step - loss: 0.2527 - accuracy: 0.9356 - val_loss: 0.2695 - val_accuracy: 0.9230\n",
      "Epoch 34/1000\n",
      "45/45 [==============================] - 0s 1ms/step - loss: 0.2512 - accuracy: 0.9366 - val_loss: 0.2682 - val_accuracy: 0.9237\n",
      "Epoch 35/1000\n",
      "45/45 [==============================] - 0s 1ms/step - loss: 0.2495 - accuracy: 0.9363 - val_loss: 0.2672 - val_accuracy: 0.9251\n",
      "Epoch 36/1000\n",
      "45/45 [==============================] - 0s 1ms/step - loss: 0.2478 - accuracy: 0.9380 - val_loss: 0.2661 - val_accuracy: 0.9244\n",
      "Epoch 37/1000\n",
      "45/45 [==============================] - 0s 1ms/step - loss: 0.2464 - accuracy: 0.9380 - val_loss: 0.2646 - val_accuracy: 0.9237\n",
      "Epoch 38/1000\n",
      "45/45 [==============================] - 0s 1ms/step - loss: 0.2452 - accuracy: 0.9377 - val_loss: 0.2638 - val_accuracy: 0.9244\n",
      "Epoch 39/1000\n",
      "45/45 [==============================] - 0s 1ms/step - loss: 0.2439 - accuracy: 0.9380 - val_loss: 0.2630 - val_accuracy: 0.9258\n",
      "Epoch 40/1000\n",
      "45/45 [==============================] - 0s 1ms/step - loss: 0.2425 - accuracy: 0.9373 - val_loss: 0.2622 - val_accuracy: 0.9251\n",
      "Epoch 41/1000\n",
      "45/45 [==============================] - 0s 1ms/step - loss: 0.2412 - accuracy: 0.9391 - val_loss: 0.2616 - val_accuracy: 0.9244\n",
      "Epoch 42/1000\n",
      "45/45 [==============================] - 0s 1ms/step - loss: 0.2402 - accuracy: 0.9394 - val_loss: 0.2608 - val_accuracy: 0.9251\n",
      "Epoch 43/1000\n",
      "45/45 [==============================] - 0s 1ms/step - loss: 0.2390 - accuracy: 0.9391 - val_loss: 0.2603 - val_accuracy: 0.9258\n",
      "Epoch 44/1000\n",
      "45/45 [==============================] - 0s 1ms/step - loss: 0.2379 - accuracy: 0.9391 - val_loss: 0.2594 - val_accuracy: 0.9258\n",
      "Epoch 45/1000\n",
      "45/45 [==============================] - 0s 1ms/step - loss: 0.2366 - accuracy: 0.9394 - val_loss: 0.2590 - val_accuracy: 0.9265\n",
      "Epoch 46/1000\n",
      "45/45 [==============================] - 0s 1ms/step - loss: 0.2357 - accuracy: 0.9384 - val_loss: 0.2583 - val_accuracy: 0.9272\n",
      "Epoch 47/1000\n",
      "45/45 [==============================] - 0s 1ms/step - loss: 0.2347 - accuracy: 0.9394 - val_loss: 0.2578 - val_accuracy: 0.9265\n",
      "Epoch 48/1000\n",
      "45/45 [==============================] - 0s 1ms/step - loss: 0.2337 - accuracy: 0.9398 - val_loss: 0.2574 - val_accuracy: 0.9279\n",
      "Epoch 49/1000\n",
      "45/45 [==============================] - 0s 1ms/step - loss: 0.2326 - accuracy: 0.9401 - val_loss: 0.2571 - val_accuracy: 0.9286\n",
      "Epoch 50/1000\n",
      "45/45 [==============================] - 0s 1ms/step - loss: 0.2320 - accuracy: 0.9408 - val_loss: 0.2566 - val_accuracy: 0.9286\n",
      "Epoch 51/1000\n",
      "45/45 [==============================] - 0s 1ms/step - loss: 0.2311 - accuracy: 0.9391 - val_loss: 0.2564 - val_accuracy: 0.9272\n",
      "Epoch 52/1000\n",
      "45/45 [==============================] - 0s 1ms/step - loss: 0.2303 - accuracy: 0.9419 - val_loss: 0.2558 - val_accuracy: 0.9286\n",
      "Epoch 53/1000\n",
      "45/45 [==============================] - 0s 1ms/step - loss: 0.2292 - accuracy: 0.9415 - val_loss: 0.2557 - val_accuracy: 0.9286\n",
      "Epoch 54/1000\n",
      "45/45 [==============================] - 0s 1ms/step - loss: 0.2286 - accuracy: 0.9415 - val_loss: 0.2556 - val_accuracy: 0.9279\n",
      "Epoch 55/1000\n",
      "45/45 [==============================] - 0s 1ms/step - loss: 0.2276 - accuracy: 0.9422 - val_loss: 0.2548 - val_accuracy: 0.9286\n",
      "Epoch 56/1000\n",
      "45/45 [==============================] - 0s 1ms/step - loss: 0.2270 - accuracy: 0.9433 - val_loss: 0.2545 - val_accuracy: 0.9286\n",
      "Epoch 57/1000\n",
      "45/45 [==============================] - 0s 1ms/step - loss: 0.2261 - accuracy: 0.9426 - val_loss: 0.2540 - val_accuracy: 0.9286\n",
      "Epoch 58/1000\n"
     ]
    },
    {
     "name": "stdout",
     "output_type": "stream",
     "text": [
      "45/45 [==============================] - 0s 1ms/step - loss: 0.2256 - accuracy: 0.9419 - val_loss: 0.2540 - val_accuracy: 0.9272\n",
      "Epoch 59/1000\n",
      "45/45 [==============================] - 0s 1ms/step - loss: 0.2246 - accuracy: 0.9436 - val_loss: 0.2539 - val_accuracy: 0.9279\n",
      "Epoch 60/1000\n",
      "45/45 [==============================] - 0s 1ms/step - loss: 0.2241 - accuracy: 0.9440 - val_loss: 0.2535 - val_accuracy: 0.9272\n",
      "Epoch 61/1000\n",
      "45/45 [==============================] - 0s 1ms/step - loss: 0.2236 - accuracy: 0.9429 - val_loss: 0.2533 - val_accuracy: 0.9279\n",
      "Epoch 62/1000\n",
      "45/45 [==============================] - 0s 1ms/step - loss: 0.2226 - accuracy: 0.9436 - val_loss: 0.2531 - val_accuracy: 0.9265\n",
      "Epoch 63/1000\n",
      "45/45 [==============================] - 0s 1ms/step - loss: 0.2219 - accuracy: 0.9433 - val_loss: 0.2529 - val_accuracy: 0.9265\n",
      "Epoch 64/1000\n",
      "45/45 [==============================] - 0s 1ms/step - loss: 0.2211 - accuracy: 0.9450 - val_loss: 0.2530 - val_accuracy: 0.9272\n",
      "Epoch 65/1000\n",
      "45/45 [==============================] - 0s 1ms/step - loss: 0.2208 - accuracy: 0.9436 - val_loss: 0.2527 - val_accuracy: 0.9279\n",
      "Epoch 66/1000\n",
      "45/45 [==============================] - 0s 1ms/step - loss: 0.2202 - accuracy: 0.9436 - val_loss: 0.2522 - val_accuracy: 0.9279\n",
      "Epoch 67/1000\n",
      "45/45 [==============================] - 0s 1ms/step - loss: 0.2194 - accuracy: 0.9454 - val_loss: 0.2521 - val_accuracy: 0.9286\n",
      "Epoch 68/1000\n",
      "45/45 [==============================] - 0s 1ms/step - loss: 0.2187 - accuracy: 0.9447 - val_loss: 0.2519 - val_accuracy: 0.9279\n",
      "Epoch 69/1000\n",
      "45/45 [==============================] - 0s 1ms/step - loss: 0.2181 - accuracy: 0.9447 - val_loss: 0.2521 - val_accuracy: 0.9258\n",
      "Epoch 70/1000\n",
      "45/45 [==============================] - 0s 1ms/step - loss: 0.2178 - accuracy: 0.9440 - val_loss: 0.2522 - val_accuracy: 0.9272\n",
      "Epoch 71/1000\n",
      "45/45 [==============================] - 0s 1ms/step - loss: 0.2170 - accuracy: 0.9447 - val_loss: 0.2516 - val_accuracy: 0.9272\n",
      "Epoch 72/1000\n",
      "45/45 [==============================] - 0s 1ms/step - loss: 0.2164 - accuracy: 0.9454 - val_loss: 0.2513 - val_accuracy: 0.9279\n",
      "Epoch 73/1000\n",
      "45/45 [==============================] - 0s 1ms/step - loss: 0.2159 - accuracy: 0.9429 - val_loss: 0.2513 - val_accuracy: 0.9286\n",
      "Epoch 74/1000\n",
      "45/45 [==============================] - 0s 1ms/step - loss: 0.2152 - accuracy: 0.9450 - val_loss: 0.2514 - val_accuracy: 0.9286\n",
      "Epoch 75/1000\n",
      "45/45 [==============================] - 0s 1ms/step - loss: 0.2146 - accuracy: 0.9443 - val_loss: 0.2505 - val_accuracy: 0.9293\n",
      "Epoch 76/1000\n",
      "45/45 [==============================] - 0s 1ms/step - loss: 0.2140 - accuracy: 0.9447 - val_loss: 0.2513 - val_accuracy: 0.9265\n",
      "Epoch 77/1000\n",
      "45/45 [==============================] - 0s 1ms/step - loss: 0.2138 - accuracy: 0.9454 - val_loss: 0.2510 - val_accuracy: 0.9300\n",
      "Epoch 78/1000\n",
      "45/45 [==============================] - 0s 1ms/step - loss: 0.2128 - accuracy: 0.9450 - val_loss: 0.2507 - val_accuracy: 0.9314\n",
      "Epoch 79/1000\n",
      "45/45 [==============================] - 0s 1ms/step - loss: 0.2124 - accuracy: 0.9457 - val_loss: 0.2507 - val_accuracy: 0.9279\n",
      "Epoch 80/1000\n",
      "45/45 [==============================] - 0s 1ms/step - loss: 0.2121 - accuracy: 0.9461 - val_loss: 0.2506 - val_accuracy: 0.9293\n",
      "Epoch 81/1000\n",
      "45/45 [==============================] - 0s 2ms/step - loss: 0.2115 - accuracy: 0.9468 - val_loss: 0.2507 - val_accuracy: 0.9314\n",
      "Epoch 82/1000\n",
      "45/45 [==============================] - 0s 1ms/step - loss: 0.2109 - accuracy: 0.9443 - val_loss: 0.2502 - val_accuracy: 0.9300\n",
      "Epoch 83/1000\n",
      "45/45 [==============================] - 0s 1ms/step - loss: 0.2103 - accuracy: 0.9475 - val_loss: 0.2502 - val_accuracy: 0.9307\n",
      "Epoch 84/1000\n",
      "45/45 [==============================] - 0s 1ms/step - loss: 0.2096 - accuracy: 0.9461 - val_loss: 0.2501 - val_accuracy: 0.9300\n",
      "Epoch 85/1000\n",
      "45/45 [==============================] - 0s 1ms/step - loss: 0.2095 - accuracy: 0.9461 - val_loss: 0.2500 - val_accuracy: 0.9307\n",
      "Epoch 86/1000\n",
      "45/45 [==============================] - 0s 1ms/step - loss: 0.2084 - accuracy: 0.9482 - val_loss: 0.2495 - val_accuracy: 0.9307\n",
      "Epoch 87/1000\n",
      "45/45 [==============================] - 0s 1ms/step - loss: 0.2083 - accuracy: 0.9471 - val_loss: 0.2496 - val_accuracy: 0.9300\n",
      "Epoch 88/1000\n",
      "45/45 [==============================] - 0s 1ms/step - loss: 0.2076 - accuracy: 0.9485 - val_loss: 0.2495 - val_accuracy: 0.9314\n",
      "Epoch 89/1000\n",
      "45/45 [==============================] - 0s 1ms/step - loss: 0.2070 - accuracy: 0.9489 - val_loss: 0.2496 - val_accuracy: 0.9314\n",
      "Epoch 90/1000\n",
      "45/45 [==============================] - 0s 1ms/step - loss: 0.2067 - accuracy: 0.9485 - val_loss: 0.2493 - val_accuracy: 0.9307\n",
      "Epoch 91/1000\n",
      "45/45 [==============================] - 0s 1ms/step - loss: 0.2063 - accuracy: 0.9478 - val_loss: 0.2495 - val_accuracy: 0.9307\n",
      "Epoch 92/1000\n",
      "45/45 [==============================] - 0s 1ms/step - loss: 0.2059 - accuracy: 0.9468 - val_loss: 0.2496 - val_accuracy: 0.9307\n",
      "Epoch 93/1000\n",
      "45/45 [==============================] - 0s 1ms/step - loss: 0.2053 - accuracy: 0.9478 - val_loss: 0.2489 - val_accuracy: 0.9321\n",
      "Epoch 94/1000\n",
      "45/45 [==============================] - 0s 1ms/step - loss: 0.2052 - accuracy: 0.9489 - val_loss: 0.2494 - val_accuracy: 0.9314\n",
      "Epoch 95/1000\n",
      "45/45 [==============================] - 0s 1ms/step - loss: 0.2047 - accuracy: 0.9471 - val_loss: 0.2493 - val_accuracy: 0.9321\n",
      "Epoch 96/1000\n",
      "45/45 [==============================] - 0s 1ms/step - loss: 0.2042 - accuracy: 0.9485 - val_loss: 0.2493 - val_accuracy: 0.9321\n",
      "Epoch 97/1000\n",
      "45/45 [==============================] - 0s 1ms/step - loss: 0.2035 - accuracy: 0.9478 - val_loss: 0.2491 - val_accuracy: 0.9321\n",
      "Epoch 98/1000\n",
      "45/45 [==============================] - 0s 1ms/step - loss: 0.2032 - accuracy: 0.9482 - val_loss: 0.2486 - val_accuracy: 0.9314\n",
      "Epoch 99/1000\n",
      "45/45 [==============================] - 0s 1ms/step - loss: 0.2026 - accuracy: 0.9482 - val_loss: 0.2489 - val_accuracy: 0.9314\n",
      "Epoch 100/1000\n",
      "45/45 [==============================] - 0s 1ms/step - loss: 0.2024 - accuracy: 0.9489 - val_loss: 0.2489 - val_accuracy: 0.9321\n",
      "Epoch 101/1000\n",
      "45/45 [==============================] - 0s 1ms/step - loss: 0.2017 - accuracy: 0.9492 - val_loss: 0.2490 - val_accuracy: 0.9321\n",
      "Epoch 102/1000\n",
      "45/45 [==============================] - 0s 1ms/step - loss: 0.2013 - accuracy: 0.9496 - val_loss: 0.2487 - val_accuracy: 0.9321\n",
      "Epoch 103/1000\n",
      "45/45 [==============================] - 0s 1ms/step - loss: 0.2014 - accuracy: 0.9478 - val_loss: 0.2493 - val_accuracy: 0.9314\n",
      "Epoch 104/1000\n",
      "45/45 [==============================] - 0s 1ms/step - loss: 0.2007 - accuracy: 0.9492 - val_loss: 0.2487 - val_accuracy: 0.9321\n",
      "Epoch 105/1000\n",
      "45/45 [==============================] - 0s 1ms/step - loss: 0.2003 - accuracy: 0.9510 - val_loss: 0.2485 - val_accuracy: 0.9314\n",
      "Epoch 106/1000\n",
      "45/45 [==============================] - 0s 1ms/step - loss: 0.1999 - accuracy: 0.9489 - val_loss: 0.2485 - val_accuracy: 0.9314\n",
      "Epoch 107/1000\n",
      "45/45 [==============================] - 0s 1ms/step - loss: 0.1996 - accuracy: 0.9503 - val_loss: 0.2485 - val_accuracy: 0.9307\n",
      "Epoch 108/1000\n",
      "45/45 [==============================] - 0s 1ms/step - loss: 0.1989 - accuracy: 0.9499 - val_loss: 0.2482 - val_accuracy: 0.9314\n",
      "Epoch 109/1000\n",
      "45/45 [==============================] - 0s 1ms/step - loss: 0.1986 - accuracy: 0.9503 - val_loss: 0.2482 - val_accuracy: 0.9314\n",
      "Epoch 110/1000\n",
      "45/45 [==============================] - 0s 1ms/step - loss: 0.1985 - accuracy: 0.9503 - val_loss: 0.2488 - val_accuracy: 0.9321\n",
      "Epoch 111/1000\n",
      "45/45 [==============================] - 0s 1ms/step - loss: 0.1975 - accuracy: 0.9517 - val_loss: 0.2484 - val_accuracy: 0.9293\n",
      "Epoch 112/1000\n",
      "45/45 [==============================] - 0s 1ms/step - loss: 0.1975 - accuracy: 0.9499 - val_loss: 0.2485 - val_accuracy: 0.9307\n",
      "Epoch 113/1000\n",
      "45/45 [==============================] - 0s 1ms/step - loss: 0.1971 - accuracy: 0.9510 - val_loss: 0.2483 - val_accuracy: 0.9314\n",
      "Epoch 114/1000\n",
      "45/45 [==============================] - 0s 2ms/step - loss: 0.1965 - accuracy: 0.9506 - val_loss: 0.2487 - val_accuracy: 0.9300\n",
      "Epoch 115/1000\n"
     ]
    },
    {
     "name": "stdout",
     "output_type": "stream",
     "text": [
      "45/45 [==============================] - 0s 1ms/step - loss: 0.1964 - accuracy: 0.9524 - val_loss: 0.2482 - val_accuracy: 0.9307\n",
      "Epoch 116/1000\n",
      "45/45 [==============================] - 0s 1ms/step - loss: 0.1958 - accuracy: 0.9506 - val_loss: 0.2482 - val_accuracy: 0.9328\n",
      "Epoch 117/1000\n",
      "45/45 [==============================] - 0s 1ms/step - loss: 0.1954 - accuracy: 0.9506 - val_loss: 0.2481 - val_accuracy: 0.9300\n",
      "Epoch 118/1000\n",
      "45/45 [==============================] - 0s 1ms/step - loss: 0.1948 - accuracy: 0.9513 - val_loss: 0.2479 - val_accuracy: 0.9321\n",
      "Epoch 119/1000\n",
      "45/45 [==============================] - 0s 1ms/step - loss: 0.1946 - accuracy: 0.9513 - val_loss: 0.2480 - val_accuracy: 0.9321\n",
      "Epoch 120/1000\n",
      "45/45 [==============================] - 0s 1ms/step - loss: 0.1946 - accuracy: 0.9506 - val_loss: 0.2480 - val_accuracy: 0.9300\n",
      "Epoch 121/1000\n",
      "45/45 [==============================] - 0s 1ms/step - loss: 0.1942 - accuracy: 0.9510 - val_loss: 0.2483 - val_accuracy: 0.9328\n",
      "Epoch 122/1000\n",
      "45/45 [==============================] - 0s 1ms/step - loss: 0.1936 - accuracy: 0.9534 - val_loss: 0.2479 - val_accuracy: 0.9321\n",
      "Epoch 123/1000\n",
      "45/45 [==============================] - 0s 1ms/step - loss: 0.1934 - accuracy: 0.9520 - val_loss: 0.2480 - val_accuracy: 0.9328\n",
      "Epoch 124/1000\n",
      "45/45 [==============================] - 0s 1ms/step - loss: 0.1929 - accuracy: 0.9506 - val_loss: 0.2475 - val_accuracy: 0.9314\n",
      "Epoch 125/1000\n",
      "45/45 [==============================] - 0s 1ms/step - loss: 0.1923 - accuracy: 0.9524 - val_loss: 0.2475 - val_accuracy: 0.9314\n",
      "Epoch 126/1000\n",
      "45/45 [==============================] - 0s 1ms/step - loss: 0.1923 - accuracy: 0.9524 - val_loss: 0.2482 - val_accuracy: 0.9321\n",
      "Epoch 127/1000\n",
      "45/45 [==============================] - 0s 1ms/step - loss: 0.1918 - accuracy: 0.9541 - val_loss: 0.2481 - val_accuracy: 0.9307\n",
      "Epoch 128/1000\n",
      "45/45 [==============================] - 0s 1ms/step - loss: 0.1913 - accuracy: 0.9527 - val_loss: 0.2478 - val_accuracy: 0.9335\n",
      "Epoch 129/1000\n",
      "45/45 [==============================] - 0s 1ms/step - loss: 0.1910 - accuracy: 0.9517 - val_loss: 0.2479 - val_accuracy: 0.9328\n",
      "Epoch 130/1000\n",
      "45/45 [==============================] - 0s 1ms/step - loss: 0.1905 - accuracy: 0.9531 - val_loss: 0.2477 - val_accuracy: 0.9328\n",
      "Epoch 131/1000\n",
      "45/45 [==============================] - 0s 1ms/step - loss: 0.1901 - accuracy: 0.9538 - val_loss: 0.2479 - val_accuracy: 0.9314\n",
      "Epoch 132/1000\n",
      "45/45 [==============================] - 0s 1ms/step - loss: 0.1897 - accuracy: 0.9538 - val_loss: 0.2477 - val_accuracy: 0.9321\n",
      "Epoch 133/1000\n",
      "45/45 [==============================] - 0s 1ms/step - loss: 0.1894 - accuracy: 0.9548 - val_loss: 0.2479 - val_accuracy: 0.9321\n",
      "Epoch 134/1000\n",
      "45/45 [==============================] - 0s 1ms/step - loss: 0.1892 - accuracy: 0.9524 - val_loss: 0.2478 - val_accuracy: 0.9328\n"
     ]
    }
   ],
   "source": [
    "history = nn.model.fit(\n",
    "    x=X_train, \n",
    "    y=y_train,\n",
    "    batch_size=64,\n",
    "    epochs=1000,\n",
    "    verbose=1,\n",
    "    validation_data=(X_val, y_val),\n",
    "    shuffle=True,\n",
    "    callbacks=[tensorflow.keras.callbacks.EarlyStopping(\n",
    "    restore_best_weights=True,\n",
    "    patience=10\n",
    "        )]\n",
    ")"
   ]
  },
  {
   "cell_type": "code",
   "execution_count": 29,
   "metadata": {
    "colab": {
     "base_uri": "https://localhost:8080/",
     "height": 295
    },
    "id": "URc7l45nOVed",
    "outputId": "981ceb0b-57a9-43f2-8d35-86db5f183088"
   },
   "outputs": [
    {
     "data": {
      "image/png": "[encoded data removed]",
      "text/plain": [
       "<Figure size 640x480 with 1 Axes>"
      ]
     },
     "metadata": {},
     "output_type": "display_data"
    }
   ],
   "source": [
    "plt.title('Accuracy during training')\n",
    "plt.plot(range(len(history.history['loss'])), history.history['accuracy'], label='training accuracy', color='green')\n",
    "plt.plot(range(len(history.history['loss'])), history.history['val_accuracy'], label='validation accuracy', color='red')\n",
    "plt.grid(color='gray', linewidth=.4)\n",
    "\n",
    "plt.legend(loc=\"lower right\")\n",
    "plt.xlabel(\"epochs\")\n",
    "plt.ylabel(\"accuracy\")\n",
    "plt.xlim(0, len(history.history['loss'])+1)\n",
    "plt.ylim(.45, 1.)\n",
    "plt.savefig('acc.png')"
   ]
  },
  {
   "cell_type": "code",
   "execution_count": 30,
   "metadata": {
    "colab": {
     "base_uri": "https://localhost:8080/",
     "height": 295
    },
    "id": "GdzD2gX3o2ex",
    "outputId": "54a1934c-7039-46b1-f455-da2a247b5352"
   },
   "outputs": [
    {
     "data": {
      "image/png": "[encoded data removed]",
      "text/plain": [
       "<Figure size 640x480 with 1 Axes>"
      ]
     },
     "metadata": {},
     "output_type": "display_data"
    }
   ],
   "source": [
    "plt.title('Loss during training')\n",
    "plt.plot(range(len(history.history['loss'])), history.history['loss'], label='training loss', color='green')\n",
    "plt.plot(range(len(history.history['loss'])), history.history['val_loss'], label='validation loss', color='red')\n",
    "plt.grid(color='gray', linewidth=.4)\n",
    "\n",
    "plt.legend(loc=\"upper right\")\n",
    "plt.xlabel(\"epochs\")\n",
    "plt.ylabel(\"loss\")\n",
    "plt.savefig('loss.png')"
   ]
  },
  {
   "cell_type": "code",
   "execution_count": 31,
   "metadata": {
    "colab": {
     "base_uri": "https://localhost:8080/"
    },
    "id": "_URwnk59O6gZ",
    "outputId": "9f340020-ff2f-4114-946e-29b5cfe68e56"
   },
   "outputs": [
    {
     "name": "stdout",
     "output_type": "stream",
     "text": [
      "45/45 [==============================] - 0s 618us/step - loss: 0.2198 - accuracy: 0.9363\n"
     ]
    },
    {
     "data": {
      "text/plain": [
       "[0.21982558071613312, 0.936274528503418]"
      ]
     },
     "execution_count": 31,
     "metadata": {},
     "output_type": "execute_result"
    }
   ],
   "source": [
    "nn.model.evaluate(x=X_test, y=y_test)"
   ]
  },
  {
   "cell_type": "code",
   "execution_count": 32,
   "metadata": {
    "id": "9BvSjCRgfBeZ"
   },
   "outputs": [],
   "source": [
    "nn.model.save('ac.h5')"
   ]
  },
  {
   "cell_type": "code",
   "execution_count": null,
   "metadata": {
    "id": "lqHcU5SdfL3J"
   },
   "outputs": [],
   "source": [
    "# I think we can obtain the same results without using a nn"
   ]
  },
  {
   "cell_type": "code",
   "execution_count": null,
   "metadata": {
    "id": "z0AHU7uVjUYY"
   },
   "outputs": [],
   "source": []
  }
 ],
 "metadata": {
  "colab": {
   "provenance": []
  },
  "kernelspec": {
   "display_name": "Python 3 (ipykernel)",
   "language": "python",
   "name": "python3"
  },
  "language_info": {
   "codemirror_mode": {
    "name": "ipython",
    "version": 3
   },
   "file_extension": ".py",
   "mimetype": "text/x-python",
   "name": "python",
   "nbconvert_exporter": "python",
   "pygments_lexer": "ipython3",
   "version": "3.8.13"
  }
 },
 "nbformat": 4,
 "nbformat_minor": 1
}
