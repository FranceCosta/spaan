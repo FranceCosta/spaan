{
 "cells": [
  {
   "cell_type": "markdown",
   "metadata": {
    "id": "0n7PxHqkaz62"
   },
   "source": [
    "# Adhesin Classification"
   ]
  },
  {
   "cell_type": "code",
   "execution_count": 1,
   "metadata": {
    "id": "PWVGuYECU5Re"
   },
   "outputs": [
    {
     "name": "stderr",
     "output_type": "stream",
     "text": [
      "2023-02-02 21:48:46.284591: I tensorflow/core/platform/cpu_feature_guard.cc:193] This TensorFlow binary is optimized with oneAPI Deep Neural Network Library (oneDNN) to use the following CPU instructions in performance-critical operations:  AVX2 AVX512F AVX512_VNNI FMA\n",
      "To enable them in other operations, rebuild TensorFlow with the appropriate compiler flags.\n",
      "2023-02-02 21:48:46.392823: I tensorflow/core/util/util.cc:169] oneDNN custom operations are on. You may see slightly different numerical results due to floating-point round-off errors from different computation orders. To turn them off, set the environment variable `TF_ENABLE_ONEDNN_OPTS=0`.\n",
      "2023-02-02 21:48:46.396702: W tensorflow/stream_executor/platform/default/dso_loader.cc:64] Could not load dynamic library 'libcudart.so.11.0'; dlerror: libcudart.so.11.0: cannot open shared object file: No such file or directory\n",
      "2023-02-02 21:48:46.396713: I tensorflow/stream_executor/cuda/cudart_stub.cc:29] Ignore above cudart dlerror if you do not have a GPU set up on your machine.\n",
      "2023-02-02 21:48:46.414476: E tensorflow/stream_executor/cuda/cuda_blas.cc:2981] Unable to register cuBLAS factory: Attempting to register factory for plugin cuBLAS when one has already been registered\n",
      "2023-02-02 21:48:46.845831: W tensorflow/stream_executor/platform/default/dso_loader.cc:64] Could not load dynamic library 'libnvinfer.so.7'; dlerror: libnvinfer.so.7: cannot open shared object file: No such file or directory\n",
      "2023-02-02 21:48:46.845871: W tensorflow/stream_executor/platform/default/dso_loader.cc:64] Could not load dynamic library 'libnvinfer_plugin.so.7'; dlerror: libnvinfer_plugin.so.7: cannot open shared object file: No such file or directory\n",
      "2023-02-02 21:48:46.845876: W tensorflow/compiler/tf2tensorrt/utils/py_utils.cc:38] TF-TRT Warning: Cannot dlopen some TensorRT libraries. If you would like to use Nvidia GPU with TensorRT, please make sure the missing libraries mentioned above are installed properly.\n"
     ]
    }
   ],
   "source": [
    "%%capture\n",
    "!pip install Biopython\n",
    "!rm -r iFeature\n",
    "!rm -r spaan\n",
    "!git clone https://github.com/Superzchen/iFeature\n",
    "!git clone https://github.com/nicolagulmini/spaan\n",
    "\n",
    "import numpy as np\n",
    "import tensorflow\n",
    "from tensorflow import keras\n",
    "import matplotlib.pyplot as plt\n",
    "from Bio import SeqIO\n"
   ]
  },
  {
   "cell_type": "code",
   "execution_count": 2,
   "metadata": {},
   "outputs": [],
   "source": [
    "import numpy as np\n",
    "import tensorflow\n",
    "from tensorflow import keras\n",
    "import matplotlib.pyplot as plt\n",
    "from Bio import SeqIO"
   ]
  },
  {
   "cell_type": "markdown",
   "metadata": {
    "id": "VEeoI6ARa3dL"
   },
   "source": [
    "## Compute features from sequences using iFeature"
   ]
  },
  {
   "cell_type": "code",
   "execution_count": 3,
   "metadata": {
    "colab": {
     "base_uri": "https://localhost:8080/",
     "height": 178
    },
    "id": "pzEvZQh1U7s9",
    "outputId": "04247103-8e60-4cae-a9c9-951d40b0b895"
   },
   "outputs": [
    {
     "data": {
      "text/plain": [
       "'\\n# put the right path\\n!python iFeature/iFeature.py --file ./spaan/data/25_similarity/positive/adhesins.fasta --type AAC --out aac_cleaned_pos.out    # amino acids composition\\n!python iFeature/iFeature.py --file ./spaan/data/25_similarity/positive/adhesins.fasta --type DPC --out dpc_cleaned_pos.out    # dipeptide composition\\n!python iFeature/iFeature.py --file ./spaan/data/25_similarity/positive/adhesins.fasta --type CTDC --out ctdc_cleaned_pos.out  # composition\\n!python iFeature/iFeature.py --file ./spaan/data/25_similarity/positive/adhesins.fasta --type CTDT --out ctdt_cleaned_pos.out  # transition\\n!python iFeature/iFeature.py --file ./spaan/data/25_similarity/positive/adhesins.fasta --type CTDD --out ctdd_cleaned_pos.out  # distribution\\n\\nprint(\"pos: DONE!\")\\n\\n!python iFeature/iFeature.py --file ./spaan/data/25_similarity/negative/non_adhesins.fasta --type AAC --out aac_cleaned_neg.out    # amino acids composition\\n!python iFeature/iFeature.py --file ./spaan/data/25_similarity/negative/non_adhesins.fasta --type DPC --out dpc_cleaned_neg.out    # dipeptide composition\\n!python iFeature/iFeature.py --file ./spaan/data/25_similarity/negative/non_adhesins.fasta --type CTDC --out ctdc_cleaned_neg.out  # composition\\n!python iFeature/iFeature.py --file ./spaan/data/25_similarity/negative/non_adhesins.fasta --type CTDT --out ctdt_cleaned_neg.out  # transition\\n!python iFeature/iFeature.py --file ./spaan/data/25_similarity/negative/non_adhesins.fasta --type CTDD --out ctdd_cleaned_neg.out  # distribution\\n\\nprint(\"neg: DONE!\")\\n'"
      ]
     },
     "execution_count": 3,
     "metadata": {},
     "output_type": "execute_result"
    }
   ],
   "source": [
    "'''\n",
    "# put the right path\n",
    "!python iFeature/iFeature.py --file ./spaan/data/25_similarity/positive/adhesins.fasta --type AAC --out aac_cleaned_pos.out    # amino acids composition\n",
    "!python iFeature/iFeature.py --file ./spaan/data/25_similarity/positive/adhesins.fasta --type DPC --out dpc_cleaned_pos.out    # dipeptide composition\n",
    "!python iFeature/iFeature.py --file ./spaan/data/25_similarity/positive/adhesins.fasta --type CTDC --out ctdc_cleaned_pos.out  # composition\n",
    "!python iFeature/iFeature.py --file ./spaan/data/25_similarity/positive/adhesins.fasta --type CTDT --out ctdt_cleaned_pos.out  # transition\n",
    "!python iFeature/iFeature.py --file ./spaan/data/25_similarity/positive/adhesins.fasta --type CTDD --out ctdd_cleaned_pos.out  # distribution\n",
    "\n",
    "print(\"pos: DONE!\")\n",
    "\n",
    "!python iFeature/iFeature.py --file ./spaan/data/25_similarity/negative/non_adhesins.fasta --type AAC --out aac_cleaned_neg.out    # amino acids composition\n",
    "!python iFeature/iFeature.py --file ./spaan/data/25_similarity/negative/non_adhesins.fasta --type DPC --out dpc_cleaned_neg.out    # dipeptide composition\n",
    "!python iFeature/iFeature.py --file ./spaan/data/25_similarity/negative/non_adhesins.fasta --type CTDC --out ctdc_cleaned_neg.out  # composition\n",
    "!python iFeature/iFeature.py --file ./spaan/data/25_similarity/negative/non_adhesins.fasta --type CTDT --out ctdt_cleaned_neg.out  # transition\n",
    "!python iFeature/iFeature.py --file ./spaan/data/25_similarity/negative/non_adhesins.fasta --type CTDD --out ctdd_cleaned_neg.out  # distribution\n",
    "\n",
    "print(\"neg: DONE!\")\n",
    "'''"
   ]
  },
  {
   "cell_type": "code",
   "execution_count": 6,
   "metadata": {
    "id": "IYbll8nFWFeB"
   },
   "outputs": [],
   "source": [
    "def from_files_to_vectors(fasta_path, positive=True):\n",
    "    if positive:\n",
    "        proteins = list(SeqIO.parse(fasta_path+'pos_25.fasta', \"fasta\"))\n",
    "    else:\n",
    "        proteins = list(SeqIO.parse(fasta_path+'neg_25.fasta', \"fasta\"))\n",
    "    extension = \".out\"\n",
    "    files = [\"aac\", \"dpc\", \"ctdc\", \"ctdt\", \"ctdd\"]\n",
    "    if positive:\n",
    "        names = \"_pos\"\n",
    "    else:\n",
    "        names = \"_neg\"\n",
    "    for i in range(len(files)):\n",
    "        files[i] += names\n",
    "    datasets = [[] for el in files]\n",
    "    for i in range(len(files)):\n",
    "        with open(fasta_path+files[i]+extension) as f:\n",
    "            lines = f.readlines()[1:]\n",
    "            check_prot = 0\n",
    "            for line in lines:\n",
    "                information = line.split('\\t')\n",
    "                if not information[0] == proteins[check_prot].id:\n",
    "                    print(\"Error in protein order! Return\")\n",
    "                    return datasets\n",
    "                datasets[i].append(np.array([float(el) for el in information[1:]]))\n",
    "                check_prot += 1\n",
    "        datasets[i] = np.array(datasets[i])\n",
    "    return datasets"
   ]
  },
  {
   "cell_type": "code",
   "execution_count": 7,
   "metadata": {
    "id": "UhhYXnkFd4f-"
   },
   "outputs": [],
   "source": [
    "# put the right path\n",
    "pos_datasets = from_files_to_vectors(\"./data/25_similarity/pos/\", positive=True)\n",
    "neg_datasets = from_files_to_vectors(\"./data/25_similarity/neg/\", positive=False)"
   ]
  },
  {
   "cell_type": "code",
   "execution_count": 8,
   "metadata": {
    "id": "ygAG4O2mbTqE"
   },
   "outputs": [],
   "source": [
    "y_pos = np.ones(pos_datasets[0].shape[0])\n",
    "y_neg = np.zeros(neg_datasets[0].shape[0])"
   ]
  },
  {
   "cell_type": "code",
   "execution_count": 9,
   "metadata": {
    "colab": {
     "base_uri": "https://localhost:8080/"
    },
    "id": "smNPp1kx8wjn",
    "outputId": "82b1c70f-7b49-4998-837b-e54a9ffefe5b"
   },
   "outputs": [
    {
     "name": "stdout",
     "output_type": "stream",
     "text": [
      "Adhesins: 2700\n",
      "NON Adhesins: 2700\n",
      "1 -th feature dim: 20\n",
      "2 -th feature dim: 400\n",
      "3 -th feature dim: 39\n",
      "4 -th feature dim: 39\n",
      "5 -th feature dim: 195\n",
      "Data matrix dimension: (5400, 693)\n"
     ]
    }
   ],
   "source": [
    "# attach datasets in order to obtain a matrix of (n, 20+400+39+39+195) features\n",
    "\n",
    "# keep in mind the number of adhesins and the number of not adhesins\n",
    "rows = 0\n",
    "n_pos = y_pos.shape[0]\n",
    "n_neg = y_neg.shape[0]\n",
    "rows = n_pos + n_neg\n",
    "print('Adhesins:', n_pos)\n",
    "print('NON Adhesins:', n_neg)\n",
    "\n",
    "# feature vectors dimensions\n",
    "columns = 0\n",
    "for i in range(len(pos_datasets)):\n",
    "    tmp_dim = pos_datasets[i].shape[1]\n",
    "    print(i+1, '-th feature dim:', tmp_dim)\n",
    "    columns += tmp_dim\n",
    "\n",
    "# data matrix to process\n",
    "X = np.zeros((rows, columns))\n",
    "print('Data matrix dimension:', X.shape)\n",
    "for i in range(n_pos):\n",
    "    X[i] = np.concatenate([pos_datasets[j][i] for j in range(5)])\n",
    "for i in range(n_neg):\n",
    "    X[n_pos+i] = np.concatenate([neg_datasets[j][i] for j in range(5)])"
   ]
  },
  {
   "cell_type": "code",
   "execution_count": 10,
   "metadata": {
    "id": "Le_qOBDQbtIR"
   },
   "outputs": [],
   "source": [
    "# permutation\n",
    "np.random.seed(990)\n",
    "y = np.concatenate((y_pos, y_neg), axis=0)\n",
    "c = np.random.permutation(np.arange(y.shape[0]))\n",
    "y = y[c]\n",
    "X = X[c] "
   ]
  },
  {
   "cell_type": "code",
   "execution_count": 11,
   "metadata": {
    "id": "C6lIL92bil0D"
   },
   "outputs": [],
   "source": [
    "# we should remove outliers"
   ]
  },
  {
   "cell_type": "code",
   "execution_count": 12,
   "metadata": {
    "colab": {
     "base_uri": "https://localhost:8080/"
    },
    "id": "ux8mpZZwb-AD",
    "outputId": "5f81e2a0-fe6b-4346-8962-9181091ffb81"
   },
   "outputs": [
    {
     "name": "stdout",
     "output_type": "stream",
     "text": [
      "Training data shape: (2700, 693) (2700,)\n",
      "Validation data shape: (1350, 693) (1350,)\n",
      "Test data shape: (1350, 693) (1350,)\n",
      "\n",
      "Training adhesins and not-adhesins: 1320 1380\n",
      "Validation adhesins and not-adhesins: 688 662\n",
      "Test adhesins and not-adhesins: 692 658\n"
     ]
    }
   ],
   "source": [
    "# remember: standardization or scaling AFTER train-test split, otherwise there's data leakage!!!\n",
    "X_train = X[:int(X.shape[0]*.5)]\n",
    "X_val = X[int(X.shape[0]*.5):int(X.shape[0]*.75)]\n",
    "X_test = X[int(X.shape[0]*.75):]\n",
    "\n",
    "y_train = y[:int(y.shape[0]*.5)]\n",
    "y_val = y[int(y.shape[0]*.5):int(y.shape[0]*.75)]\n",
    "y_test = y[int(y.shape[0]*.75):]\n",
    "\n",
    "print('Training data shape:', X_train.shape, y_train.shape)\n",
    "print('Validation data shape:', X_val.shape, y_val.shape)\n",
    "print('Test data shape:', X_test.shape, y_test.shape)\n",
    "\n",
    "print('\\nTraining adhesins and not-adhesins:', int(sum(y_train)), int(y_train.shape[0]-sum(y_train)))\n",
    "print('Validation adhesins and not-adhesins:', int(sum(y_val)), int(y_val.shape[0]-sum(y_val)))\n",
    "print('Test adhesins and not-adhesins:', int(sum(y_test)), int(y_test.shape[0]-sum(y_test)))"
   ]
  },
  {
   "cell_type": "markdown",
   "metadata": {
    "id": "A3f7wcI98ukB"
   },
   "source": [
    "## PCA"
   ]
  },
  {
   "cell_type": "code",
   "execution_count": 13,
   "metadata": {
    "colab": {
     "base_uri": "https://localhost:8080/"
    },
    "id": "uos3QwWo9Mnt",
    "outputId": "61476efe-b3c5-4a8f-eefa-c917a08c4861"
   },
   "outputs": [
    {
     "name": "stdout",
     "output_type": "stream",
     "text": [
      "Before standardization:\n",
      "mean of the first column: 0.08361513726389627\n",
      "mean of the second column: 0.010398491211747372\n",
      "mean of the 451-th column: 0.10019427328158824\n",
      "After standardization:\n",
      "mean of the first column: -1.5000346643824338e-16\n",
      "mean of the second column: -9.868649107779169e-17\n",
      "mean of the 451-th column: 1.3092407816320364e-16\n"
     ]
    }
   ],
   "source": [
    "# standardize data\n",
    "# remember that test and validation data have to be standardized with training mean and std dev\n",
    "# https://stats.stackexchange.com/questions/174823/how-to-apply-standardization-normalization-to-train-and-testset-if-prediction-i\n",
    "\n",
    "# print some column vectors to check\n",
    "print('Before standardization:')\n",
    "print('mean of the first column:', np.mean(X_train[:,0]))\n",
    "print('mean of the second column:', np.mean(X_train[:,1]))\n",
    "print('mean of the 451-th column:', np.mean(X_train[:,450]))\n",
    "\n",
    "stdX = np.zeros(X_train.shape)\n",
    "stdX_val = np.zeros(X_val.shape)\n",
    "stdX_test = np.zeros(X_test.shape)\n",
    "\n",
    "means = np.zeros(X_train.shape[1])\n",
    "std_devs = np.zeros(X_train.shape[1])\n",
    "\n",
    "for j in range(X_train.shape[1]):\n",
    "    column = X_train[:,j]\n",
    "    means[j] = np.mean(column)\n",
    "    std_devs[j] = np.std(column)\n",
    "\n",
    "    stdX[:,j] = (column - means[j]) / std_devs[j]\n",
    "    stdX_val[:,j] = (X_val[:,j] - means[j]) / std_devs[j]\n",
    "    stdX_test[:,j] = (X_test[:,j] - means[j]) / std_devs[j]\n",
    "\n",
    "print('After standardization:')\n",
    "print('mean of the first column:', np.mean(stdX[:,0]))\n",
    "print('mean of the second column:', np.mean(stdX[:,1]))\n",
    "print('mean of the 451-th column:', np.mean(stdX[:,450]))\n",
    "\n",
    "np.save('mean', means)\n",
    "np.save('std', std_devs)"
   ]
  },
  {
   "cell_type": "code",
   "execution_count": 14,
   "metadata": {
    "id": "1rxxgMIFBCiy"
   },
   "outputs": [],
   "source": [
    "covariance_matrix = np.cov(stdX.T)"
   ]
  },
  {
   "cell_type": "code",
   "execution_count": 15,
   "metadata": {
    "id": "WP-_Lnn-ClUY"
   },
   "outputs": [],
   "source": [
    "# The covariance matrix is symmetric, and thus has real eigenvalues. You may see a small imaginary part in some eigenvalues due to numerical error. The imaginary parts can generally be ignored.\n",
    "# source: https://stackoverflow.com/questions/10420648/complex-eigen-values-in-pca-calculation\n",
    "\n",
    "eigen_values, eigen_vectors = np.linalg.eig(covariance_matrix)\n",
    "eigen_values = np.real(eigen_values)\n",
    "eigen_vectors = np.real(eigen_vectors)"
   ]
  },
  {
   "cell_type": "code",
   "execution_count": 16,
   "metadata": {
    "colab": {
     "base_uri": "https://localhost:8080/"
    },
    "id": "hTqYBNJ6CpPm",
    "outputId": "ee4ce8e4-3fa7-455f-842e-89b1e2dbd468"
   },
   "outputs": [],
   "source": [
    "# Calculating the explained variance on each of components\n",
    "\n",
    "variance_explained = []\n",
    "for i in eigen_values:\n",
    "    variance_explained.append((i/sum(eigen_values))*100)\n",
    "\n",
    "#print(variance_explained)"
   ]
  },
  {
   "cell_type": "code",
   "execution_count": 17,
   "metadata": {
    "id": "6paF0Sx6CxgR"
   },
   "outputs": [],
   "source": [
    "cumulative_variance_explained = np.cumsum(variance_explained)"
   ]
  },
  {
   "cell_type": "code",
   "execution_count": 18,
   "metadata": {
    "colab": {
     "base_uri": "https://localhost:8080/",
     "height": 295
    },
    "id": "JiCZn04JC6O2",
    "outputId": "bf2af60a-88ab-4bf7-d1af-4afa847a4a65"
   },
   "outputs": [
    {
     "data": {
      "image/png": "[encoded data removed]",
      "text/plain": [
       "<Figure size 640x480 with 1 Axes>"
      ]
     },
     "metadata": {},
     "output_type": "display_data"
    }
   ],
   "source": [
    "plt.title(\"Explained variance vs Number of components\")\n",
    "\n",
    "plt.xlabel(\"Number of components\")\n",
    "plt.ylabel(\"Cumulative explained variance\")\n",
    "plt.grid(color='gray', linewidth=.4)\n",
    "\n",
    "plt.plot(range(len(cumulative_variance_explained)), cumulative_variance_explained)\n",
    "\n",
    "plt.show()\n",
    "#plt.savefig('Explained variance.png')"
   ]
  },
  {
   "cell_type": "code",
   "execution_count": 19,
   "metadata": {
    "colab": {
     "base_uri": "https://localhost:8080/"
    },
    "id": "1uJyQPrCJIhN",
    "outputId": "8da93713-dc72-4f20-c7e8-a174aeabc971"
   },
   "outputs": [
    {
     "name": "stdout",
     "output_type": "stream",
     "text": [
      "Principal components: 400\n",
      "Discarded components: 293\n"
     ]
    }
   ],
   "source": [
    "K = 400\n",
    "print('Principal components:', K)\n",
    "print('Discarded components:', columns-K)"
   ]
  },
  {
   "cell_type": "code",
   "execution_count": 20,
   "metadata": {
    "colab": {
     "base_uri": "https://localhost:8080/",
     "height": 295
    },
    "id": "fgyo-1SwEgmK",
    "outputId": "ffb79f1e-51d1-4f72-8d60-61c9cea73ecb"
   },
   "outputs": [
    {
     "data": {
      "image/png": "[encoded data removed]",
      "text/plain": [
       "<Figure size 640x480 with 1 Axes>"
      ]
     },
     "metadata": {},
     "output_type": "display_data"
    }
   ],
   "source": [
    "plt.title(\"Explained variance vs first \" + str(K) + \" components\")\n",
    "\n",
    "plt.xlabel(\"Number of components\")\n",
    "plt.ylabel(\"Cumulative explained variance\")\n",
    "plt.grid(color='gray', linewidth=.4)\n",
    "\n",
    "plt.plot(range(K), cumulative_variance_explained[:K])\n",
    "\n",
    "plt.show()\n",
    "#plt.savefig('Explained variance.png')"
   ]
  },
  {
   "cell_type": "code",
   "execution_count": 21,
   "metadata": {
    "colab": {
     "base_uri": "https://localhost:8080/"
    },
    "id": "uOq8n7vDGbBg",
    "outputId": "594c234d-211b-49f1-ee23-bb2b71d73aa4"
   },
   "outputs": [
    {
     "name": "stdout",
     "output_type": "stream",
     "text": [
      "(693, 400)\n"
     ]
    }
   ],
   "source": [
    "# Project using first K components\n",
    "\n",
    "projection_matrix = np.real((eigen_vectors.T[:][:K]).T)\n",
    "print(projection_matrix.shape)\n",
    "\n",
    "np.save('projection_matrix', projection_matrix)"
   ]
  },
  {
   "cell_type": "code",
   "execution_count": 22,
   "metadata": {
    "id": "IMfOPt8wdwIb"
   },
   "outputs": [],
   "source": [
    "# project matrices\n",
    "X_train = stdX.dot(projection_matrix)\n",
    "X_val = stdX_val.dot(projection_matrix)\n",
    "X_test = stdX_test.dot(projection_matrix)"
   ]
  },
  {
   "cell_type": "markdown",
   "metadata": {
    "id": "hD7cgwErK-at"
   },
   "source": [
    "## Neural Network"
   ]
  },
  {
   "cell_type": "code",
   "execution_count": 23,
   "metadata": {
    "id": "Mm5Ub0lgNion"
   },
   "outputs": [],
   "source": [
    "from tensorflow.keras import regularizers\n",
    "\n",
    "class neural_network:\n",
    "    def __init__(self):\n",
    "        input = tensorflow.keras.Input(shape=(K,))\n",
    "        \n",
    "        dense = tensorflow.keras.layers.Dense(units=10, \n",
    "                                                activation='sigmoid',\n",
    "                                                kernel_regularizer=regularizers.L1L2(l1=1e-3, l2=1e-3),\n",
    "                                                bias_regularizer=regularizers.L2(1e-3),\n",
    "                                                activity_regularizer=regularizers.L2(1e-3))(input)\n",
    "        #norm = tensorflow.keras.layers.BatchNormalization()(dense)\n",
    "        #drop = tensorflow.keras.layers.Dropout(.1)(dense)\n",
    "        #dense = tensorflow.keras.layers.Dense(10, activation='sigmoid')(drop)\n",
    "        output = tensorflow.keras.layers.Dense(1, activation='sigmoid')(dense)\n",
    "\n",
    "        model = tensorflow.keras.models.Model(inputs=input, outputs=output)\n",
    "        model.compile(optimizer=tensorflow.keras.optimizers.Adam(learning_rate=0.0005), loss='binary_crossentropy', metrics='accuracy')\n",
    "        self.model = model"
   ]
  },
  {
   "cell_type": "code",
   "execution_count": 24,
   "metadata": {
    "id": "_8WMTxwXOCN4"
   },
   "outputs": [
    {
     "name": "stderr",
     "output_type": "stream",
     "text": [
      "2023-02-02 21:49:36.221004: W tensorflow/stream_executor/platform/default/dso_loader.cc:64] Could not load dynamic library 'libcuda.so.1'; dlerror: libcuda.so.1: cannot open shared object file: No such file or directory\n",
      "2023-02-02 21:49:36.221027: W tensorflow/stream_executor/cuda/cuda_driver.cc:263] failed call to cuInit: UNKNOWN ERROR (303)\n",
      "2023-02-02 21:49:36.221040: I tensorflow/stream_executor/cuda/cuda_diagnostics.cc:156] kernel driver does not appear to be running on this host (79b804562f18): /proc/driver/nvidia/version does not exist\n",
      "2023-02-02 21:49:36.221218: I tensorflow/core/platform/cpu_feature_guard.cc:193] This TensorFlow binary is optimized with oneAPI Deep Neural Network Library (oneDNN) to use the following CPU instructions in performance-critical operations:  AVX2 AVX512F AVX512_VNNI FMA\n",
      "To enable them in other operations, rebuild TensorFlow with the appropriate compiler flags.\n"
     ]
    }
   ],
   "source": [
    "nn = neural_network()"
   ]
  },
  {
   "cell_type": "code",
   "execution_count": 25,
   "metadata": {
    "colab": {
     "base_uri": "https://localhost:8080/"
    },
    "id": "fb8toDqPppYe",
    "outputId": "2281916e-ac76-4d64-a966-08e0bf3aca78"
   },
   "outputs": [
    {
     "name": "stdout",
     "output_type": "stream",
     "text": [
      "Model: \"model\"\n",
      "_________________________________________________________________\n",
      " Layer (type)                Output Shape              Param #   \n",
      "=================================================================\n",
      " input_1 (InputLayer)        [(None, 400)]             0         \n",
      "                                                                 \n",
      " dense (Dense)               (None, 10)                4010      \n",
      "                                                                 \n",
      " dense_1 (Dense)             (None, 1)                 11        \n",
      "                                                                 \n",
      "=================================================================\n",
      "Total params: 4,021\n",
      "Trainable params: 4,021\n",
      "Non-trainable params: 0\n",
      "_________________________________________________________________\n"
     ]
    }
   ],
   "source": [
    "nn.model.summary()"
   ]
  },
  {
   "cell_type": "code",
   "execution_count": 26,
   "metadata": {
    "colab": {
     "base_uri": "https://localhost:8080/"
    },
    "id": "vkkGhIODODzx",
    "outputId": "960ce50f-2e4b-41d6-ceb1-821503620ac6"
   },
   "outputs": [
    {
     "name": "stdout",
     "output_type": "stream",
     "text": [
      "Epoch 1/1000\n",
      "43/43 [==============================] - 1s 4ms/step - loss: 0.9682 - accuracy: 0.4763 - val_loss: 0.9084 - val_accuracy: 0.5548\n",
      "Epoch 2/1000\n",
      "43/43 [==============================] - 0s 1ms/step - loss: 0.8527 - accuracy: 0.6474 - val_loss: 0.8075 - val_accuracy: 0.7311\n",
      "Epoch 3/1000\n",
      "43/43 [==============================] - 0s 1ms/step - loss: 0.7571 - accuracy: 0.7893 - val_loss: 0.7218 - val_accuracy: 0.8333\n",
      "Epoch 4/1000\n",
      "43/43 [==============================] - 0s 1ms/step - loss: 0.6757 - accuracy: 0.8667 - val_loss: 0.6479 - val_accuracy: 0.8741\n",
      "Epoch 5/1000\n",
      "43/43 [==============================] - 0s 1ms/step - loss: 0.6054 - accuracy: 0.8985 - val_loss: 0.5841 - val_accuracy: 0.8993\n",
      "Epoch 6/1000\n",
      "43/43 [==============================] - 0s 1ms/step - loss: 0.5448 - accuracy: 0.9130 - val_loss: 0.5299 - val_accuracy: 0.9111\n",
      "Epoch 7/1000\n",
      "43/43 [==============================] - 0s 1ms/step - loss: 0.4936 - accuracy: 0.9189 - val_loss: 0.4848 - val_accuracy: 0.9156\n",
      "Epoch 8/1000\n",
      "43/43 [==============================] - 0s 1ms/step - loss: 0.4507 - accuracy: 0.9219 - val_loss: 0.4470 - val_accuracy: 0.9170\n",
      "Epoch 9/1000\n",
      "43/43 [==============================] - 0s 1ms/step - loss: 0.4150 - accuracy: 0.9270 - val_loss: 0.4158 - val_accuracy: 0.9200\n",
      "Epoch 10/1000\n",
      "43/43 [==============================] - 0s 1ms/step - loss: 0.3858 - accuracy: 0.9307 - val_loss: 0.3906 - val_accuracy: 0.9222\n",
      "Epoch 11/1000\n",
      "43/43 [==============================] - 0s 1ms/step - loss: 0.3614 - accuracy: 0.9319 - val_loss: 0.3697 - val_accuracy: 0.9244\n",
      "Epoch 12/1000\n",
      "43/43 [==============================] - 0s 1ms/step - loss: 0.3416 - accuracy: 0.9344 - val_loss: 0.3521 - val_accuracy: 0.9281\n",
      "Epoch 13/1000\n",
      "43/43 [==============================] - 0s 1ms/step - loss: 0.3253 - accuracy: 0.9363 - val_loss: 0.3381 - val_accuracy: 0.9259\n",
      "Epoch 14/1000\n",
      "43/43 [==============================] - 0s 1ms/step - loss: 0.3118 - accuracy: 0.9381 - val_loss: 0.3261 - val_accuracy: 0.9267\n",
      "Epoch 15/1000\n",
      "43/43 [==============================] - 0s 1ms/step - loss: 0.3007 - accuracy: 0.9381 - val_loss: 0.3158 - val_accuracy: 0.9252\n",
      "Epoch 16/1000\n",
      "43/43 [==============================] - 0s 1ms/step - loss: 0.2909 - accuracy: 0.9385 - val_loss: 0.3074 - val_accuracy: 0.9281\n",
      "Epoch 17/1000\n",
      "43/43 [==============================] - 0s 1ms/step - loss: 0.2828 - accuracy: 0.9389 - val_loss: 0.3001 - val_accuracy: 0.9281\n",
      "Epoch 18/1000\n",
      "43/43 [==============================] - 0s 1ms/step - loss: 0.2758 - accuracy: 0.9393 - val_loss: 0.2936 - val_accuracy: 0.9289\n",
      "Epoch 19/1000\n",
      "43/43 [==============================] - 0s 1ms/step - loss: 0.2698 - accuracy: 0.9400 - val_loss: 0.2887 - val_accuracy: 0.9296\n",
      "Epoch 20/1000\n",
      "43/43 [==============================] - 0s 1ms/step - loss: 0.2644 - accuracy: 0.9407 - val_loss: 0.2838 - val_accuracy: 0.9319\n",
      "Epoch 21/1000\n",
      "43/43 [==============================] - 0s 1ms/step - loss: 0.2595 - accuracy: 0.9430 - val_loss: 0.2794 - val_accuracy: 0.9296\n",
      "Epoch 22/1000\n",
      "43/43 [==============================] - 0s 1ms/step - loss: 0.2560 - accuracy: 0.9437 - val_loss: 0.2758 - val_accuracy: 0.9304\n",
      "Epoch 23/1000\n",
      "43/43 [==============================] - 0s 1ms/step - loss: 0.2517 - accuracy: 0.9441 - val_loss: 0.2727 - val_accuracy: 0.9326\n",
      "Epoch 24/1000\n",
      "43/43 [==============================] - 0s 1ms/step - loss: 0.2485 - accuracy: 0.9448 - val_loss: 0.2695 - val_accuracy: 0.9333\n",
      "Epoch 25/1000\n",
      "43/43 [==============================] - 0s 1ms/step - loss: 0.2453 - accuracy: 0.9444 - val_loss: 0.2670 - val_accuracy: 0.9333\n",
      "Epoch 26/1000\n",
      "43/43 [==============================] - 0s 1ms/step - loss: 0.2423 - accuracy: 0.9456 - val_loss: 0.2645 - val_accuracy: 0.9333\n",
      "Epoch 27/1000\n",
      "43/43 [==============================] - 0s 1ms/step - loss: 0.2398 - accuracy: 0.9452 - val_loss: 0.2626 - val_accuracy: 0.9341\n",
      "Epoch 28/1000\n",
      "43/43 [==============================] - 0s 1ms/step - loss: 0.2375 - accuracy: 0.9467 - val_loss: 0.2609 - val_accuracy: 0.9341\n",
      "Epoch 29/1000\n",
      "43/43 [==============================] - 0s 1ms/step - loss: 0.2351 - accuracy: 0.9470 - val_loss: 0.2587 - val_accuracy: 0.9341\n",
      "Epoch 30/1000\n",
      "43/43 [==============================] - 0s 1ms/step - loss: 0.2337 - accuracy: 0.9474 - val_loss: 0.2580 - val_accuracy: 0.9333\n",
      "Epoch 31/1000\n",
      "43/43 [==============================] - 0s 1ms/step - loss: 0.2315 - accuracy: 0.9478 - val_loss: 0.2562 - val_accuracy: 0.9333\n",
      "Epoch 32/1000\n",
      "43/43 [==============================] - 0s 1ms/step - loss: 0.2299 - accuracy: 0.9481 - val_loss: 0.2554 - val_accuracy: 0.9319\n",
      "Epoch 33/1000\n",
      "43/43 [==============================] - 0s 1ms/step - loss: 0.2274 - accuracy: 0.9463 - val_loss: 0.2541 - val_accuracy: 0.9319\n",
      "Epoch 34/1000\n",
      "43/43 [==============================] - 0s 1ms/step - loss: 0.2263 - accuracy: 0.9481 - val_loss: 0.2524 - val_accuracy: 0.9319\n",
      "Epoch 35/1000\n",
      "43/43 [==============================] - 0s 1ms/step - loss: 0.2245 - accuracy: 0.9493 - val_loss: 0.2517 - val_accuracy: 0.9319\n",
      "Epoch 36/1000\n",
      "43/43 [==============================] - 0s 1ms/step - loss: 0.2231 - accuracy: 0.9474 - val_loss: 0.2504 - val_accuracy: 0.9326\n",
      "Epoch 37/1000\n",
      "43/43 [==============================] - 0s 1ms/step - loss: 0.2217 - accuracy: 0.9467 - val_loss: 0.2500 - val_accuracy: 0.9326\n",
      "Epoch 38/1000\n",
      "43/43 [==============================] - 0s 1ms/step - loss: 0.2205 - accuracy: 0.9485 - val_loss: 0.2494 - val_accuracy: 0.9326\n",
      "Epoch 39/1000\n",
      "43/43 [==============================] - 0s 1ms/step - loss: 0.2193 - accuracy: 0.9481 - val_loss: 0.2487 - val_accuracy: 0.9311\n",
      "Epoch 40/1000\n",
      "43/43 [==============================] - 0s 1ms/step - loss: 0.2181 - accuracy: 0.9489 - val_loss: 0.2482 - val_accuracy: 0.9311\n",
      "Epoch 41/1000\n",
      "43/43 [==============================] - 0s 1ms/step - loss: 0.2170 - accuracy: 0.9500 - val_loss: 0.2476 - val_accuracy: 0.9319\n",
      "Epoch 42/1000\n",
      "43/43 [==============================] - 0s 1ms/step - loss: 0.2162 - accuracy: 0.9485 - val_loss: 0.2475 - val_accuracy: 0.9319\n",
      "Epoch 43/1000\n",
      "43/43 [==============================] - 0s 1ms/step - loss: 0.2152 - accuracy: 0.9493 - val_loss: 0.2461 - val_accuracy: 0.9311\n",
      "Epoch 44/1000\n",
      "43/43 [==============================] - 0s 1ms/step - loss: 0.2138 - accuracy: 0.9481 - val_loss: 0.2460 - val_accuracy: 0.9304\n",
      "Epoch 45/1000\n",
      "43/43 [==============================] - 0s 1ms/step - loss: 0.2130 - accuracy: 0.9485 - val_loss: 0.2457 - val_accuracy: 0.9311\n",
      "Epoch 46/1000\n",
      "43/43 [==============================] - 0s 1ms/step - loss: 0.2122 - accuracy: 0.9489 - val_loss: 0.2451 - val_accuracy: 0.9296\n",
      "Epoch 47/1000\n",
      "43/43 [==============================] - 0s 1ms/step - loss: 0.2115 - accuracy: 0.9493 - val_loss: 0.2459 - val_accuracy: 0.9296\n",
      "Epoch 48/1000\n",
      "43/43 [==============================] - 0s 1ms/step - loss: 0.2105 - accuracy: 0.9489 - val_loss: 0.2461 - val_accuracy: 0.9311\n",
      "Epoch 49/1000\n",
      "43/43 [==============================] - 0s 1ms/step - loss: 0.2097 - accuracy: 0.9485 - val_loss: 0.2454 - val_accuracy: 0.9311\n",
      "Epoch 50/1000\n",
      "43/43 [==============================] - 0s 1ms/step - loss: 0.2092 - accuracy: 0.9496 - val_loss: 0.2451 - val_accuracy: 0.9304\n",
      "Epoch 51/1000\n",
      "43/43 [==============================] - 0s 1ms/step - loss: 0.2079 - accuracy: 0.9493 - val_loss: 0.2441 - val_accuracy: 0.9304\n",
      "Epoch 52/1000\n",
      "43/43 [==============================] - 0s 1ms/step - loss: 0.2077 - accuracy: 0.9519 - val_loss: 0.2437 - val_accuracy: 0.9304\n",
      "Epoch 53/1000\n",
      "43/43 [==============================] - 0s 1ms/step - loss: 0.2068 - accuracy: 0.9507 - val_loss: 0.2437 - val_accuracy: 0.9304\n",
      "Epoch 54/1000\n",
      "43/43 [==============================] - 0s 1ms/step - loss: 0.2063 - accuracy: 0.9526 - val_loss: 0.2431 - val_accuracy: 0.9333\n",
      "Epoch 55/1000\n",
      "43/43 [==============================] - 0s 1ms/step - loss: 0.2051 - accuracy: 0.9511 - val_loss: 0.2431 - val_accuracy: 0.9311\n",
      "Epoch 56/1000\n",
      "43/43 [==============================] - 0s 1ms/step - loss: 0.2046 - accuracy: 0.9511 - val_loss: 0.2428 - val_accuracy: 0.9311\n",
      "Epoch 57/1000\n",
      "43/43 [==============================] - 0s 1ms/step - loss: 0.2040 - accuracy: 0.9519 - val_loss: 0.2432 - val_accuracy: 0.9296\n",
      "Epoch 58/1000\n"
     ]
    },
    {
     "name": "stdout",
     "output_type": "stream",
     "text": [
      "43/43 [==============================] - 0s 1ms/step - loss: 0.2034 - accuracy: 0.9522 - val_loss: 0.2430 - val_accuracy: 0.9311\n",
      "Epoch 59/1000\n",
      "43/43 [==============================] - 0s 1ms/step - loss: 0.2032 - accuracy: 0.9522 - val_loss: 0.2431 - val_accuracy: 0.9311\n",
      "Epoch 60/1000\n",
      "43/43 [==============================] - 0s 1ms/step - loss: 0.2019 - accuracy: 0.9522 - val_loss: 0.2425 - val_accuracy: 0.9304\n",
      "Epoch 61/1000\n",
      "43/43 [==============================] - 0s 1ms/step - loss: 0.2022 - accuracy: 0.9533 - val_loss: 0.2426 - val_accuracy: 0.9333\n",
      "Epoch 62/1000\n",
      "43/43 [==============================] - 0s 1ms/step - loss: 0.2011 - accuracy: 0.9533 - val_loss: 0.2431 - val_accuracy: 0.9304\n",
      "Epoch 63/1000\n",
      "43/43 [==============================] - 0s 1ms/step - loss: 0.2001 - accuracy: 0.9533 - val_loss: 0.2423 - val_accuracy: 0.9304\n",
      "Epoch 64/1000\n",
      "43/43 [==============================] - 0s 1ms/step - loss: 0.1998 - accuracy: 0.9522 - val_loss: 0.2419 - val_accuracy: 0.9296\n",
      "Epoch 65/1000\n",
      "43/43 [==============================] - 0s 1ms/step - loss: 0.1991 - accuracy: 0.9537 - val_loss: 0.2417 - val_accuracy: 0.9319\n",
      "Epoch 66/1000\n",
      "43/43 [==============================] - 0s 1ms/step - loss: 0.1988 - accuracy: 0.9533 - val_loss: 0.2417 - val_accuracy: 0.9319\n",
      "Epoch 67/1000\n",
      "43/43 [==============================] - 0s 1ms/step - loss: 0.1982 - accuracy: 0.9533 - val_loss: 0.2421 - val_accuracy: 0.9311\n",
      "Epoch 68/1000\n",
      "43/43 [==============================] - 0s 1ms/step - loss: 0.1979 - accuracy: 0.9530 - val_loss: 0.2419 - val_accuracy: 0.9319\n",
      "Epoch 69/1000\n",
      "43/43 [==============================] - 0s 1ms/step - loss: 0.1974 - accuracy: 0.9541 - val_loss: 0.2426 - val_accuracy: 0.9319\n",
      "Epoch 70/1000\n",
      "43/43 [==============================] - 0s 1ms/step - loss: 0.1969 - accuracy: 0.9548 - val_loss: 0.2419 - val_accuracy: 0.9311\n",
      "Epoch 71/1000\n",
      "43/43 [==============================] - 0s 1ms/step - loss: 0.1962 - accuracy: 0.9533 - val_loss: 0.2419 - val_accuracy: 0.9333\n",
      "Epoch 72/1000\n",
      "43/43 [==============================] - 0s 1ms/step - loss: 0.1957 - accuracy: 0.9541 - val_loss: 0.2418 - val_accuracy: 0.9304\n",
      "Epoch 73/1000\n",
      "43/43 [==============================] - 0s 1ms/step - loss: 0.1957 - accuracy: 0.9548 - val_loss: 0.2415 - val_accuracy: 0.9326\n",
      "Epoch 74/1000\n",
      "43/43 [==============================] - 0s 1ms/step - loss: 0.1950 - accuracy: 0.9537 - val_loss: 0.2422 - val_accuracy: 0.9319\n",
      "Epoch 75/1000\n",
      "43/43 [==============================] - 0s 1ms/step - loss: 0.1943 - accuracy: 0.9548 - val_loss: 0.2410 - val_accuracy: 0.9326\n",
      "Epoch 76/1000\n",
      "43/43 [==============================] - 0s 2ms/step - loss: 0.1938 - accuracy: 0.9559 - val_loss: 0.2414 - val_accuracy: 0.9333\n",
      "Epoch 77/1000\n",
      "43/43 [==============================] - 0s 2ms/step - loss: 0.1938 - accuracy: 0.9552 - val_loss: 0.2419 - val_accuracy: 0.9326\n",
      "Epoch 78/1000\n",
      "43/43 [==============================] - 0s 1ms/step - loss: 0.1939 - accuracy: 0.9548 - val_loss: 0.2423 - val_accuracy: 0.9326\n",
      "Epoch 79/1000\n",
      "43/43 [==============================] - 0s 1ms/step - loss: 0.1936 - accuracy: 0.9556 - val_loss: 0.2428 - val_accuracy: 0.9333\n",
      "Epoch 80/1000\n",
      "43/43 [==============================] - 0s 1ms/step - loss: 0.1921 - accuracy: 0.9548 - val_loss: 0.2421 - val_accuracy: 0.9326\n",
      "Epoch 81/1000\n",
      "43/43 [==============================] - 0s 1ms/step - loss: 0.1915 - accuracy: 0.9556 - val_loss: 0.2422 - val_accuracy: 0.9326\n",
      "Epoch 82/1000\n",
      "43/43 [==============================] - 0s 1ms/step - loss: 0.1913 - accuracy: 0.9567 - val_loss: 0.2417 - val_accuracy: 0.9319\n",
      "Epoch 83/1000\n",
      "43/43 [==============================] - 0s 1ms/step - loss: 0.1913 - accuracy: 0.9544 - val_loss: 0.2417 - val_accuracy: 0.9304\n",
      "Epoch 84/1000\n",
      "43/43 [==============================] - 0s 1ms/step - loss: 0.1907 - accuracy: 0.9559 - val_loss: 0.2416 - val_accuracy: 0.9311\n",
      "Epoch 85/1000\n",
      "43/43 [==============================] - 0s 2ms/step - loss: 0.1911 - accuracy: 0.9570 - val_loss: 0.2424 - val_accuracy: 0.9311\n"
     ]
    }
   ],
   "source": [
    "history = nn.model.fit(\n",
    "    x=X_train, \n",
    "    y=y_train,\n",
    "    batch_size=64,\n",
    "    epochs=1000,\n",
    "    verbose=1,\n",
    "    validation_data=(X_val, y_val),\n",
    "    shuffle=True,\n",
    "    callbacks=[tensorflow.keras.callbacks.EarlyStopping(\n",
    "    restore_best_weights=True,\n",
    "    patience=10\n",
    "        )]\n",
    ")"
   ]
  },
  {
   "cell_type": "code",
   "execution_count": 27,
   "metadata": {
    "colab": {
     "base_uri": "https://localhost:8080/",
     "height": 295
    },
    "id": "URc7l45nOVed",
    "outputId": "981ceb0b-57a9-43f2-8d35-86db5f183088"
   },
   "outputs": [
    {
     "data": {
      "image/png": "[encoded data removed]",
      "text/plain": [
       "<Figure size 640x480 with 1 Axes>"
      ]
     },
     "metadata": {},
     "output_type": "display_data"
    }
   ],
   "source": [
    "plt.title('Accuracy during training')\n",
    "plt.plot(range(len(history.history['loss'])), history.history['accuracy'], label='training accuracy', color='green')\n",
    "plt.plot(range(len(history.history['loss'])), history.history['val_accuracy'], label='validation accuracy', color='red')\n",
    "plt.grid(color='gray', linewidth=.4)\n",
    "\n",
    "plt.legend(loc=\"lower right\")\n",
    "plt.xlabel(\"epochs\")\n",
    "plt.ylabel(\"accuracy\")\n",
    "plt.xlim(0, len(history.history['loss'])+1)\n",
    "plt.ylim(.45, 1.)\n",
    "plt.savefig('acc.png')"
   ]
  },
  {
   "cell_type": "code",
   "execution_count": 28,
   "metadata": {
    "colab": {
     "base_uri": "https://localhost:8080/",
     "height": 295
    },
    "id": "GdzD2gX3o2ex",
    "outputId": "54a1934c-7039-46b1-f455-da2a247b5352"
   },
   "outputs": [
    {
     "data": {
      "image/png": "[encoded data removed]",
      "text/plain": [
       "<Figure size 640x480 with 1 Axes>"
      ]
     },
     "metadata": {},
     "output_type": "display_data"
    }
   ],
   "source": [
    "plt.title('Loss during training')\n",
    "plt.plot(range(len(history.history['loss'])), history.history['loss'], label='training loss', color='green')\n",
    "plt.plot(range(len(history.history['loss'])), history.history['val_loss'], label='validation loss', color='red')\n",
    "plt.grid(color='gray', linewidth=.4)\n",
    "\n",
    "plt.legend(loc=\"upper right\")\n",
    "plt.xlabel(\"epochs\")\n",
    "plt.ylabel(\"loss\")\n",
    "plt.savefig('loss.png')"
   ]
  },
  {
   "cell_type": "code",
   "execution_count": 29,
   "metadata": {
    "colab": {
     "base_uri": "https://localhost:8080/"
    },
    "id": "_URwnk59O6gZ",
    "outputId": "9f340020-ff2f-4114-946e-29b5cfe68e56"
   },
   "outputs": [
    {
     "name": "stdout",
     "output_type": "stream",
     "text": [
      "43/43 [==============================] - 0s 647us/step - loss: 0.2473 - accuracy: 0.9333\n"
     ]
    },
    {
     "data": {
      "text/plain": [
       "[0.24731230735778809, 0.9333333373069763]"
      ]
     },
     "execution_count": 29,
     "metadata": {},
     "output_type": "execute_result"
    }
   ],
   "source": [
    "nn.model.evaluate(x=X_test, y=y_test)"
   ]
  },
  {
   "cell_type": "code",
   "execution_count": 30,
   "metadata": {
    "id": "9BvSjCRgfBeZ"
   },
   "outputs": [],
   "source": [
    "nn.model.save('ac.h5')"
   ]
  },
  {
   "cell_type": "code",
   "execution_count": null,
   "metadata": {
    "id": "lqHcU5SdfL3J"
   },
   "outputs": [],
   "source": [
    "# I think we can obtain the same results without using a nn"
   ]
  },
  {
   "cell_type": "code",
   "execution_count": null,
   "metadata": {
    "id": "z0AHU7uVjUYY"
   },
   "outputs": [],
   "source": []
  }
 ],
 "metadata": {
  "colab": {
   "provenance": []
  },
  "kernelspec": {
   "display_name": "Python 3 (ipykernel)",
   "language": "python",
   "name": "python3"
  },
  "language_info": {
   "codemirror_mode": {
    "name": "ipython",
    "version": 3
   },
   "file_extension": ".py",
   "mimetype": "text/x-python",
   "name": "python",
   "nbconvert_exporter": "python",
   "pygments_lexer": "ipython3",
   "version": "3.8.13"
  }
 },
 "nbformat": 4,
 "nbformat_minor": 1
}
